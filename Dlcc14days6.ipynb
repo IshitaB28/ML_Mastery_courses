{
  "nbformat": 4,
  "nbformat_minor": 0,
  "metadata": {
    "colab": {
      "name": "Dlcc14days6.ipynb",
      "provenance": [],
      "collapsed_sections": [],
      "authorship_tag": "ABX9TyPCpouKRAVrZ2bduDe5SAH2",
      "include_colab_link": true
    },
    "kernelspec": {
      "name": "python3",
      "display_name": "Python 3"
    }
  },
  "cells": [
    {
      "cell_type": "markdown",
      "metadata": {
        "id": "view-in-github",
        "colab_type": "text"
      },
      "source": [
        "<a href=\"https://colab.research.google.com/github/IshitaB28/ML_Mastery_courses/blob/master/Dlcc14days6.ipynb\" target=\"_parent\"><img src=\"https://colab.research.google.com/assets/colab-badge.svg\" alt=\"Open In Colab\"/></a>"
      ]
    },
    {
      "cell_type": "code",
      "metadata": {
        "id": "qVI551ihYVxj",
        "colab_type": "code",
        "colab": {
          "resources": {
            "http://localhost:8080/nbextensions/google.colab/files.js": {
              "data": "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",
              "ok": true,
              "headers": [
                [
                  "content-type",
                  "application/javascript"
                ]
              ],
              "status": 200,
              "status_text": ""
            }
          },
          "base_uri": "https://localhost:8080/",
          "height": 74
        },
        "outputId": "06cdcad4-8401-4a7a-b4d5-5ed24db520f0"
      },
      "source": [
        "from google.colab import files\n",
        "uploaded=files.upload()"
      ],
      "execution_count": 1,
      "outputs": [
        {
          "output_type": "display_data",
          "data": {
            "text/html": [
              "\n",
              "     <input type=\"file\" id=\"files-3eb747cb-6330-477f-85be-105f45331d25\" name=\"files[]\" multiple disabled />\n",
              "     <output id=\"result-3eb747cb-6330-477f-85be-105f45331d25\">\n",
              "      Upload widget is only available when the cell has been executed in the\n",
              "      current browser session. Please rerun this cell to enable.\n",
              "      </output>\n",
              "      <script src=\"/nbextensions/google.colab/files.js\"></script> "
            ],
            "text/plain": [
              "<IPython.core.display.HTML object>"
            ]
          },
          "metadata": {
            "tags": []
          }
        },
        {
          "output_type": "stream",
          "text": [
            "Saving pima-indians-diabetes.data.csv to pima-indians-diabetes.data.csv\n"
          ],
          "name": "stdout"
        }
      ]
    },
    {
      "cell_type": "code",
      "metadata": {
        "id": "AC7s8QhaYfJN",
        "colab_type": "code",
        "colab": {}
      },
      "source": [
        "import matplotlib.pyplot as plt\n",
        "from keras.models import Sequential\n",
        "from keras.layers import  Dense\n",
        "from keras.callbacks import ModelCheckpoint\n",
        "import numpy"
      ],
      "execution_count": 0,
      "outputs": []
    },
    {
      "cell_type": "code",
      "metadata": {
        "id": "ax5PEUpeZLKr",
        "colab_type": "code",
        "colab": {}
      },
      "source": [
        "dataset=numpy.loadtxt(\"pima-indians-diabetes.data.csv\", delimiter=',')\n",
        "X=dataset[:, 0:8]\n",
        "y=dataset[:, 8]"
      ],
      "execution_count": 0,
      "outputs": []
    },
    {
      "cell_type": "code",
      "metadata": {
        "id": "NVSkv9vWZtuS",
        "colab_type": "code",
        "colab": {}
      },
      "source": [
        "model=Sequential()\n",
        "model.add(Dense(12, input_dim=8, activation='relu'))\n",
        "model.add(Dense(8, activation='relu'))\n",
        "model.add(Dense(1, activation='sigmoid'))\n",
        "model.compile(loss='binary_crossentropy', optimizer='adam', metrics=['accuracy'])"
      ],
      "execution_count": 0,
      "outputs": []
    },
    {
      "cell_type": "code",
      "metadata": {
        "id": "1ZYB6A6RaQhp",
        "colab_type": "code",
        "colab": {}
      },
      "source": [
        "filepath=\"weights-improvement-{epoch:02d}-{val_accuracy:.2f}.hdf5\""
      ],
      "execution_count": 0,
      "outputs": []
    },
    {
      "cell_type": "code",
      "metadata": {
        "id": "nZ1fPyLuaZLE",
        "colab_type": "code",
        "colab": {
          "base_uri": "https://localhost:8080/",
          "height": 68
        },
        "outputId": "2c5adf7f-4a29-44f9-cd66-6838f54788bc"
      },
      "source": [
        "checkpoint=ModelCheckpoint(filepath, monitor='val-accuracy', verbose=1, save_best_only='True', mode='max')\n",
        "callbacks_list=[checkpoint]\n",
        "model.fit(X, y, validation_split=0.33, epochs=150, batch_size=10, callbacks=callbacks_list, verbose=0)"
      ],
      "execution_count": 9,
      "outputs": [
        {
          "output_type": "stream",
          "text": [
            "/usr/local/lib/python3.6/dist-packages/keras/callbacks/callbacks.py:707: RuntimeWarning: Can save best model only with val-accuracy available, skipping.\n",
            "  'skipping.' % (self.monitor), RuntimeWarning)\n"
          ],
          "name": "stderr"
        },
        {
          "output_type": "execute_result",
          "data": {
            "text/plain": [
              "<keras.callbacks.callbacks.History at 0x7f95742b0358>"
            ]
          },
          "metadata": {
            "tags": []
          },
          "execution_count": 9
        }
      ]
    },
    {
      "cell_type": "code",
      "metadata": {
        "id": "o7yf8GVTbDJn",
        "colab_type": "code",
        "colab": {
          "base_uri": "https://localhost:8080/",
          "height": 1000
        },
        "outputId": "f162e965-bf9b-4775-840d-9e255102d1ea"
      },
      "source": [
        "model.compile(loss='binary_crossentropy', optimizer='adam', metrics=['accuracy'])\n",
        "# checkpoint\n",
        "filepath=\"weights.best.hdf5\"\n",
        "checkpoint = ModelCheckpoint(filepath, monitor='val_accuracy', verbose=1, save_best_only=True, mode='max')\n",
        "callbacks_list = [checkpoint]\n",
        "# Fit the model\n",
        "model.fit(X, y, validation_split=0.33, epochs=150, batch_size=10, callbacks=callbacks_list, verbose=0)"
      ],
      "execution_count": 11,
      "outputs": [
        {
          "output_type": "stream",
          "text": [
            "\n",
            "Epoch 00001: val_accuracy improved from -inf to 0.70079, saving model to weights.best.hdf5\n",
            "\n",
            "Epoch 00002: val_accuracy improved from 0.70079 to 0.72047, saving model to weights.best.hdf5\n",
            "\n",
            "Epoch 00003: val_accuracy did not improve from 0.72047\n",
            "\n",
            "Epoch 00004: val_accuracy did not improve from 0.72047\n",
            "\n",
            "Epoch 00005: val_accuracy did not improve from 0.72047\n",
            "\n",
            "Epoch 00006: val_accuracy did not improve from 0.72047\n",
            "\n",
            "Epoch 00007: val_accuracy improved from 0.72047 to 0.72441, saving model to weights.best.hdf5\n",
            "\n",
            "Epoch 00008: val_accuracy did not improve from 0.72441\n",
            "\n",
            "Epoch 00009: val_accuracy did not improve from 0.72441\n",
            "\n",
            "Epoch 00010: val_accuracy did not improve from 0.72441\n",
            "\n",
            "Epoch 00011: val_accuracy did not improve from 0.72441\n",
            "\n",
            "Epoch 00012: val_accuracy did not improve from 0.72441\n",
            "\n",
            "Epoch 00013: val_accuracy did not improve from 0.72441\n",
            "\n",
            "Epoch 00014: val_accuracy did not improve from 0.72441\n",
            "\n",
            "Epoch 00015: val_accuracy did not improve from 0.72441\n",
            "\n",
            "Epoch 00016: val_accuracy did not improve from 0.72441\n",
            "\n",
            "Epoch 00017: val_accuracy did not improve from 0.72441\n",
            "\n",
            "Epoch 00018: val_accuracy did not improve from 0.72441\n",
            "\n",
            "Epoch 00019: val_accuracy did not improve from 0.72441\n",
            "\n",
            "Epoch 00020: val_accuracy did not improve from 0.72441\n",
            "\n",
            "Epoch 00021: val_accuracy did not improve from 0.72441\n",
            "\n",
            "Epoch 00022: val_accuracy did not improve from 0.72441\n",
            "\n",
            "Epoch 00023: val_accuracy improved from 0.72441 to 0.73228, saving model to weights.best.hdf5\n",
            "\n",
            "Epoch 00024: val_accuracy did not improve from 0.73228\n",
            "\n",
            "Epoch 00025: val_accuracy did not improve from 0.73228\n",
            "\n",
            "Epoch 00026: val_accuracy did not improve from 0.73228\n",
            "\n",
            "Epoch 00027: val_accuracy did not improve from 0.73228\n",
            "\n",
            "Epoch 00028: val_accuracy did not improve from 0.73228\n",
            "\n",
            "Epoch 00029: val_accuracy did not improve from 0.73228\n",
            "\n",
            "Epoch 00030: val_accuracy did not improve from 0.73228\n",
            "\n",
            "Epoch 00031: val_accuracy did not improve from 0.73228\n",
            "\n",
            "Epoch 00032: val_accuracy did not improve from 0.73228\n",
            "\n",
            "Epoch 00033: val_accuracy did not improve from 0.73228\n",
            "\n",
            "Epoch 00034: val_accuracy did not improve from 0.73228\n",
            "\n",
            "Epoch 00035: val_accuracy did not improve from 0.73228\n",
            "\n",
            "Epoch 00036: val_accuracy improved from 0.73228 to 0.73622, saving model to weights.best.hdf5\n",
            "\n",
            "Epoch 00037: val_accuracy improved from 0.73622 to 0.74409, saving model to weights.best.hdf5\n",
            "\n",
            "Epoch 00038: val_accuracy did not improve from 0.74409\n",
            "\n",
            "Epoch 00039: val_accuracy did not improve from 0.74409\n",
            "\n",
            "Epoch 00040: val_accuracy did not improve from 0.74409\n",
            "\n",
            "Epoch 00041: val_accuracy did not improve from 0.74409\n",
            "\n",
            "Epoch 00042: val_accuracy did not improve from 0.74409\n",
            "\n",
            "Epoch 00043: val_accuracy did not improve from 0.74409\n",
            "\n",
            "Epoch 00044: val_accuracy did not improve from 0.74409\n",
            "\n",
            "Epoch 00045: val_accuracy did not improve from 0.74409\n",
            "\n",
            "Epoch 00046: val_accuracy did not improve from 0.74409\n",
            "\n",
            "Epoch 00047: val_accuracy did not improve from 0.74409\n",
            "\n",
            "Epoch 00048: val_accuracy did not improve from 0.74409\n",
            "\n",
            "Epoch 00049: val_accuracy did not improve from 0.74409\n",
            "\n",
            "Epoch 00050: val_accuracy did not improve from 0.74409\n",
            "\n",
            "Epoch 00051: val_accuracy did not improve from 0.74409\n",
            "\n",
            "Epoch 00052: val_accuracy did not improve from 0.74409\n",
            "\n",
            "Epoch 00053: val_accuracy did not improve from 0.74409\n",
            "\n",
            "Epoch 00054: val_accuracy did not improve from 0.74409\n",
            "\n",
            "Epoch 00055: val_accuracy did not improve from 0.74409\n",
            "\n",
            "Epoch 00056: val_accuracy did not improve from 0.74409\n",
            "\n",
            "Epoch 00057: val_accuracy did not improve from 0.74409\n",
            "\n",
            "Epoch 00058: val_accuracy improved from 0.74409 to 0.75984, saving model to weights.best.hdf5\n",
            "\n",
            "Epoch 00059: val_accuracy did not improve from 0.75984\n",
            "\n",
            "Epoch 00060: val_accuracy did not improve from 0.75984\n",
            "\n",
            "Epoch 00061: val_accuracy did not improve from 0.75984\n",
            "\n",
            "Epoch 00062: val_accuracy did not improve from 0.75984\n",
            "\n",
            "Epoch 00063: val_accuracy did not improve from 0.75984\n",
            "\n",
            "Epoch 00064: val_accuracy did not improve from 0.75984\n",
            "\n",
            "Epoch 00065: val_accuracy did not improve from 0.75984\n",
            "\n",
            "Epoch 00066: val_accuracy did not improve from 0.75984\n",
            "\n",
            "Epoch 00067: val_accuracy did not improve from 0.75984\n",
            "\n",
            "Epoch 00068: val_accuracy did not improve from 0.75984\n",
            "\n",
            "Epoch 00069: val_accuracy did not improve from 0.75984\n",
            "\n",
            "Epoch 00070: val_accuracy improved from 0.75984 to 0.76772, saving model to weights.best.hdf5\n",
            "\n",
            "Epoch 00071: val_accuracy did not improve from 0.76772\n",
            "\n",
            "Epoch 00072: val_accuracy did not improve from 0.76772\n",
            "\n",
            "Epoch 00073: val_accuracy did not improve from 0.76772\n",
            "\n",
            "Epoch 00074: val_accuracy did not improve from 0.76772\n",
            "\n",
            "Epoch 00075: val_accuracy did not improve from 0.76772\n",
            "\n",
            "Epoch 00076: val_accuracy did not improve from 0.76772\n",
            "\n",
            "Epoch 00077: val_accuracy did not improve from 0.76772\n",
            "\n",
            "Epoch 00078: val_accuracy did not improve from 0.76772\n",
            "\n",
            "Epoch 00079: val_accuracy did not improve from 0.76772\n",
            "\n",
            "Epoch 00080: val_accuracy did not improve from 0.76772\n",
            "\n",
            "Epoch 00081: val_accuracy did not improve from 0.76772\n",
            "\n",
            "Epoch 00082: val_accuracy did not improve from 0.76772\n",
            "\n",
            "Epoch 00083: val_accuracy did not improve from 0.76772\n",
            "\n",
            "Epoch 00084: val_accuracy did not improve from 0.76772\n",
            "\n",
            "Epoch 00085: val_accuracy did not improve from 0.76772\n",
            "\n",
            "Epoch 00086: val_accuracy did not improve from 0.76772\n",
            "\n",
            "Epoch 00087: val_accuracy did not improve from 0.76772\n",
            "\n",
            "Epoch 00088: val_accuracy did not improve from 0.76772\n",
            "\n",
            "Epoch 00089: val_accuracy did not improve from 0.76772\n",
            "\n",
            "Epoch 00090: val_accuracy did not improve from 0.76772\n",
            "\n",
            "Epoch 00091: val_accuracy did not improve from 0.76772\n",
            "\n",
            "Epoch 00092: val_accuracy did not improve from 0.76772\n",
            "\n",
            "Epoch 00093: val_accuracy did not improve from 0.76772\n",
            "\n",
            "Epoch 00094: val_accuracy did not improve from 0.76772\n",
            "\n",
            "Epoch 00095: val_accuracy did not improve from 0.76772\n",
            "\n",
            "Epoch 00096: val_accuracy did not improve from 0.76772\n",
            "\n",
            "Epoch 00097: val_accuracy did not improve from 0.76772\n",
            "\n",
            "Epoch 00098: val_accuracy did not improve from 0.76772\n",
            "\n",
            "Epoch 00099: val_accuracy did not improve from 0.76772\n",
            "\n",
            "Epoch 00100: val_accuracy did not improve from 0.76772\n",
            "\n",
            "Epoch 00101: val_accuracy did not improve from 0.76772\n",
            "\n",
            "Epoch 00102: val_accuracy did not improve from 0.76772\n",
            "\n",
            "Epoch 00103: val_accuracy did not improve from 0.76772\n",
            "\n",
            "Epoch 00104: val_accuracy did not improve from 0.76772\n",
            "\n",
            "Epoch 00105: val_accuracy did not improve from 0.76772\n",
            "\n",
            "Epoch 00106: val_accuracy did not improve from 0.76772\n",
            "\n",
            "Epoch 00107: val_accuracy did not improve from 0.76772\n",
            "\n",
            "Epoch 00108: val_accuracy did not improve from 0.76772\n",
            "\n",
            "Epoch 00109: val_accuracy did not improve from 0.76772\n",
            "\n",
            "Epoch 00110: val_accuracy did not improve from 0.76772\n",
            "\n",
            "Epoch 00111: val_accuracy did not improve from 0.76772\n",
            "\n",
            "Epoch 00112: val_accuracy did not improve from 0.76772\n",
            "\n",
            "Epoch 00113: val_accuracy did not improve from 0.76772\n",
            "\n",
            "Epoch 00114: val_accuracy did not improve from 0.76772\n",
            "\n",
            "Epoch 00115: val_accuracy did not improve from 0.76772\n",
            "\n",
            "Epoch 00116: val_accuracy did not improve from 0.76772\n",
            "\n",
            "Epoch 00117: val_accuracy did not improve from 0.76772\n",
            "\n",
            "Epoch 00118: val_accuracy did not improve from 0.76772\n",
            "\n",
            "Epoch 00119: val_accuracy did not improve from 0.76772\n",
            "\n",
            "Epoch 00120: val_accuracy did not improve from 0.76772\n",
            "\n",
            "Epoch 00121: val_accuracy did not improve from 0.76772\n",
            "\n",
            "Epoch 00122: val_accuracy did not improve from 0.76772\n",
            "\n",
            "Epoch 00123: val_accuracy did not improve from 0.76772\n",
            "\n",
            "Epoch 00124: val_accuracy did not improve from 0.76772\n",
            "\n",
            "Epoch 00125: val_accuracy did not improve from 0.76772\n",
            "\n",
            "Epoch 00126: val_accuracy did not improve from 0.76772\n",
            "\n",
            "Epoch 00127: val_accuracy did not improve from 0.76772\n",
            "\n",
            "Epoch 00128: val_accuracy did not improve from 0.76772\n",
            "\n",
            "Epoch 00129: val_accuracy did not improve from 0.76772\n",
            "\n",
            "Epoch 00130: val_accuracy did not improve from 0.76772\n",
            "\n",
            "Epoch 00131: val_accuracy did not improve from 0.76772\n",
            "\n",
            "Epoch 00132: val_accuracy improved from 0.76772 to 0.77165, saving model to weights.best.hdf5\n",
            "\n",
            "Epoch 00133: val_accuracy did not improve from 0.77165\n",
            "\n",
            "Epoch 00134: val_accuracy did not improve from 0.77165\n",
            "\n",
            "Epoch 00135: val_accuracy did not improve from 0.77165\n",
            "\n",
            "Epoch 00136: val_accuracy did not improve from 0.77165\n",
            "\n",
            "Epoch 00137: val_accuracy did not improve from 0.77165\n",
            "\n",
            "Epoch 00138: val_accuracy did not improve from 0.77165\n",
            "\n",
            "Epoch 00139: val_accuracy did not improve from 0.77165\n",
            "\n",
            "Epoch 00140: val_accuracy did not improve from 0.77165\n",
            "\n",
            "Epoch 00141: val_accuracy did not improve from 0.77165\n",
            "\n",
            "Epoch 00142: val_accuracy did not improve from 0.77165\n",
            "\n",
            "Epoch 00143: val_accuracy did not improve from 0.77165\n",
            "\n",
            "Epoch 00144: val_accuracy did not improve from 0.77165\n",
            "\n",
            "Epoch 00145: val_accuracy did not improve from 0.77165\n",
            "\n",
            "Epoch 00146: val_accuracy did not improve from 0.77165\n",
            "\n",
            "Epoch 00147: val_accuracy did not improve from 0.77165\n",
            "\n",
            "Epoch 00148: val_accuracy did not improve from 0.77165\n",
            "\n",
            "Epoch 00149: val_accuracy did not improve from 0.77165\n",
            "\n",
            "Epoch 00150: val_accuracy did not improve from 0.77165\n"
          ],
          "name": "stdout"
        },
        {
          "output_type": "execute_result",
          "data": {
            "text/plain": [
              "<keras.callbacks.callbacks.History at 0x7f956cc69fd0>"
            ]
          },
          "metadata": {
            "tags": []
          },
          "execution_count": 11
        }
      ]
    },
    {
      "cell_type": "code",
      "metadata": {
        "id": "CBOQrOEnbfrG",
        "colab_type": "code",
        "colab": {}
      },
      "source": [
        "#loading the saved model"
      ],
      "execution_count": 0,
      "outputs": []
    },
    {
      "cell_type": "code",
      "metadata": {
        "id": "3ywpU3F6cD0T",
        "colab_type": "code",
        "colab": {
          "base_uri": "https://localhost:8080/",
          "height": 34
        },
        "outputId": "49f72285-0cb4-48ec-fe8f-0ebadb05d15b"
      },
      "source": [
        "model = Sequential()\n",
        "model.add(Dense(12, input_dim=8, activation='relu'))\n",
        "model.add(Dense(8, activation='relu'))\n",
        "model.add(Dense(1, activation='sigmoid'))\n",
        "\n",
        "model.load_weights(\"weights.best.hdf5\")\n",
        "\n",
        "model.compile(loss='binary_crossentropy', optimizer='adam', metrics=['accuracy'])\n",
        "print(\"Created model and loaded weights from file\")\n",
        "# load pima indians dataset\n",
        "dataset = numpy.loadtxt(\"pima-indians-diabetes.data.csv\", delimiter=\",\")\n",
        "# split into input (X) and output (Y) variables\n",
        "X = dataset[:,0:8]\n",
        "Y = dataset[:,8]"
      ],
      "execution_count": 14,
      "outputs": [
        {
          "output_type": "stream",
          "text": [
            "Created model and loaded weights from file\n"
          ],
          "name": "stdout"
        }
      ]
    },
    {
      "cell_type": "code",
      "metadata": {
        "id": "VZpsFUPocUJL",
        "colab_type": "code",
        "colab": {
          "base_uri": "https://localhost:8080/",
          "height": 34
        },
        "outputId": "d6de8f95-8c04-4f8d-9275-09a6fc3bd5b8"
      },
      "source": [
        "scores = model.evaluate(X, Y, verbose=0)\n",
        "print(\"%s: %.2f%%\" % (model.metrics_names[1], scores[1]*100))"
      ],
      "execution_count": 15,
      "outputs": [
        {
          "output_type": "stream",
          "text": [
            "accuracy: 77.73%\n"
          ],
          "name": "stdout"
        }
      ]
    },
    {
      "cell_type": "code",
      "metadata": {
        "id": "i4fYSTPscagH",
        "colab_type": "code",
        "colab": {}
      },
      "source": [
        ""
      ],
      "execution_count": 0,
      "outputs": []
    }
  ]
}