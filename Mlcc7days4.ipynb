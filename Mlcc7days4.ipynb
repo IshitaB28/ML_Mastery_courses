{
  "nbformat": 4,
  "nbformat_minor": 0,
  "metadata": {
    "colab": {
      "name": "Mlcc7days4.ipynb",
      "provenance": [],
      "collapsed_sections": [],
      "authorship_tag": "ABX9TyPyOfeMCKsKYHABQqqU+UyH",
      "include_colab_link": true
    },
    "kernelspec": {
      "name": "python3",
      "display_name": "Python 3"
    }
  },
  "cells": [
    {
      "cell_type": "markdown",
      "metadata": {
        "id": "view-in-github",
        "colab_type": "text"
      },
      "source": [
        "<a href=\"https://colab.research.google.com/github/IshitaB28/ML_Mastery_courses/blob/master/Mlcc7days4.ipynb\" target=\"_parent\"><img src=\"https://colab.research.google.com/assets/colab-badge.svg\" alt=\"Open In Colab\"/></a>"
      ]
    },
    {
      "cell_type": "code",
      "metadata": {
        "id": "8Snr3Wkg3u3W",
        "colab_type": "code",
        "colab": {
          "base_uri": "https://localhost:8080/",
          "height": 34
        },
        "outputId": "5947689d-fedf-4bbf-b03f-2855def7a812"
      },
      "source": [
        "from keras.datasets import fashion_mnist\n",
        "from keras.models import Sequential\n",
        "from keras.layers import Conv2D\n",
        "from keras.layers import MaxPooling2D\n",
        "from keras.layers import Dense\n",
        "from keras.layers import Flatten\n",
        "from keras.utils import to_categorical"
      ],
      "execution_count": 1,
      "outputs": [
        {
          "output_type": "stream",
          "text": [
            "Using TensorFlow backend.\n"
          ],
          "name": "stderr"
        }
      ]
    },
    {
      "cell_type": "markdown",
      "metadata": {
        "id": "UCLsLa1J_sLc",
        "colab_type": "text"
      },
      "source": [
        "This is about training an image classification model"
      ]
    },
    {
      "cell_type": "code",
      "metadata": {
        "id": "K4EMhohd_qbf",
        "colab_type": "code",
        "colab": {
          "base_uri": "https://localhost:8080/",
          "height": 153
        },
        "outputId": "0dc0f723-0435-434b-d590-cb8933d3dd64"
      },
      "source": [
        "(train_X, train_y), (test_X, test_y)=fashion_mnist.load_data()\n",
        "train_X=train_X.reshape((train_X.shape[0], 28, 28, 1))\n",
        "test_X=test_X.reshape((test_X.shape[0], 28, 28, 1))\n",
        "train_X, test_X=train_X.astype('float32'), test_X.astype('float32')\n",
        "train_X=train_X/255.0\n",
        "test_X=test_X/255.0\n",
        "train_y, test_y=to_categorical(train_y), to_categorical(test_y)"
      ],
      "execution_count": 2,
      "outputs": [
        {
          "output_type": "stream",
          "text": [
            "Downloading data from http://fashion-mnist.s3-website.eu-central-1.amazonaws.com/train-labels-idx1-ubyte.gz\n",
            "32768/29515 [=================================] - 0s 3us/step\n",
            "Downloading data from http://fashion-mnist.s3-website.eu-central-1.amazonaws.com/train-images-idx3-ubyte.gz\n",
            "26427392/26421880 [==============================] - 2s 0us/step\n",
            "Downloading data from http://fashion-mnist.s3-website.eu-central-1.amazonaws.com/t10k-labels-idx1-ubyte.gz\n",
            "8192/5148 [===============================================] - 0s 0us/step\n",
            "Downloading data from http://fashion-mnist.s3-website.eu-central-1.amazonaws.com/t10k-images-idx3-ubyte.gz\n",
            "4423680/4422102 [==============================] - 1s 0us/step\n"
          ],
          "name": "stdout"
        }
      ]
    },
    {
      "cell_type": "code",
      "metadata": {
        "id": "k5dwzNtxAiAj",
        "colab_type": "code",
        "colab": {
          "base_uri": "https://localhost:8080/",
          "height": 374
        },
        "outputId": "fc62d1d0-cb65-4ef6-8318-b6a5edb52d1a"
      },
      "source": [
        "model=Sequential()\n",
        "model.add(Conv2D(32, (3,3), activation='relu', kernel_initializer='he_uniform', input_shape=(28, 28, 1)))\n",
        "model.add(MaxPooling2D())\n",
        "model.add(Flatten())\n",
        "model.add(Dense(100, activation='relu', kernel_initializer='he_uniform'))\n",
        "model.add(Dense(10, activation='softmax'))\n",
        "\n",
        "model.compile(optimizer='adam', loss='categorical_crossentropy', metrics=['accuracy'])\n",
        "\n",
        "model.fit(train_X, train_y, epochs=10, batch_size=32, verbose=2)"
      ],
      "execution_count": 4,
      "outputs": [
        {
          "output_type": "stream",
          "text": [
            "Epoch 1/10\n",
            " - 35s - loss: 0.3889 - accuracy: 0.8622\n",
            "Epoch 2/10\n",
            " - 35s - loss: 0.2581 - accuracy: 0.9061\n",
            "Epoch 3/10\n",
            " - 35s - loss: 0.2157 - accuracy: 0.9200\n",
            "Epoch 4/10\n",
            " - 35s - loss: 0.1841 - accuracy: 0.9318\n",
            "Epoch 5/10\n",
            " - 35s - loss: 0.1584 - accuracy: 0.9407\n",
            "Epoch 6/10\n",
            " - 35s - loss: 0.1386 - accuracy: 0.9491\n",
            "Epoch 7/10\n",
            " - 35s - loss: 0.1205 - accuracy: 0.9557\n",
            "Epoch 8/10\n",
            " - 35s - loss: 0.1050 - accuracy: 0.9618\n",
            "Epoch 9/10\n",
            " - 34s - loss: 0.0913 - accuracy: 0.9665\n",
            "Epoch 10/10\n",
            " - 34s - loss: 0.0788 - accuracy: 0.9711\n"
          ],
          "name": "stdout"
        },
        {
          "output_type": "execute_result",
          "data": {
            "text/plain": [
              "<keras.callbacks.callbacks.History at 0x7fd22261f668>"
            ]
          },
          "metadata": {
            "tags": []
          },
          "execution_count": 4
        }
      ]
    },
    {
      "cell_type": "code",
      "metadata": {
        "id": "J0cofDxuBkYQ",
        "colab_type": "code",
        "colab": {
          "base_uri": "https://localhost:8080/",
          "height": 34
        },
        "outputId": "5547b333-dc6e-406c-daef-f531c7d52331"
      },
      "source": [
        "loss, acc=model.evaluate(test_X, test_y, verbose=0)\n",
        "print(loss, acc)"
      ],
      "execution_count": 5,
      "outputs": [
        {
          "output_type": "stream",
          "text": [
            "0.34326999019384385 0.909600019454956\n"
          ],
          "name": "stdout"
        }
      ]
    },
    {
      "cell_type": "code",
      "metadata": {
        "id": "v0BJpRiVDC_U",
        "colab_type": "code",
        "colab": {
          "base_uri": "https://localhost:8080/",
          "height": 34
        },
        "outputId": "acdbca5a-5ee4-4552-fe10-35bc53142854"
      },
      "source": [
        "test_y[0]"
      ],
      "execution_count": 6,
      "outputs": [
        {
          "output_type": "execute_result",
          "data": {
            "text/plain": [
              "array([0., 0., 0., 0., 0., 0., 0., 0., 0., 1.], dtype=float32)"
            ]
          },
          "metadata": {
            "tags": []
          },
          "execution_count": 6
        }
      ]
    },
    {
      "cell_type": "code",
      "metadata": {
        "id": "tk1YPy4QDb8w",
        "colab_type": "code",
        "colab": {}
      },
      "source": [
        ""
      ],
      "execution_count": 0,
      "outputs": []
    }
  ]
}