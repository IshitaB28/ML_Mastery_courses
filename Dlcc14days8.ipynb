{
  "nbformat": 4,
  "nbformat_minor": 0,
  "metadata": {
    "colab": {
      "name": "Dlcc14days8.ipynb",
      "provenance": [],
      "collapsed_sections": [],
      "authorship_tag": "ABX9TyMoXtjr0nnG1lnZlTDtIdES",
      "include_colab_link": true
    },
    "kernelspec": {
      "name": "python3",
      "display_name": "Python 3"
    }
  },
  "cells": [
    {
      "cell_type": "markdown",
      "metadata": {
        "id": "view-in-github",
        "colab_type": "text"
      },
      "source": [
        "<a href=\"https://colab.research.google.com/github/IshitaB28/ML_Mastery_courses/blob/master/Dlcc14days8.ipynb\" target=\"_parent\"><img src=\"https://colab.research.google.com/assets/colab-badge.svg\" alt=\"Open In Colab\"/></a>"
      ]
    },
    {
      "cell_type": "code",
      "metadata": {
        "id": "yse6_dRvXMF5",
        "colab_type": "code",
        "colab": {
          "resources": {
            "http://localhost:8080/nbextensions/google.colab/files.js": {
              "data": "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",
              "ok": true,
              "headers": [
                [
                  "content-type",
                  "application/javascript"
                ]
              ],
              "status": 200,
              "status_text": ""
            }
          },
          "base_uri": "https://localhost:8080/",
          "height": 74
        },
        "outputId": "3cd533bb-abde-431a-ed18-6670be1f3dbd"
      },
      "source": [
        "from google.colab import files\n",
        "uploaded=files.upload()"
      ],
      "execution_count": 2,
      "outputs": [
        {
          "output_type": "display_data",
          "data": {
            "text/html": [
              "\n",
              "     <input type=\"file\" id=\"files-0571f50a-7430-4c36-b7b7-938067068573\" name=\"files[]\" multiple disabled />\n",
              "     <output id=\"result-0571f50a-7430-4c36-b7b7-938067068573\">\n",
              "      Upload widget is only available when the cell has been executed in the\n",
              "      current browser session. Please rerun this cell to enable.\n",
              "      </output>\n",
              "      <script src=\"/nbextensions/google.colab/files.js\"></script> "
            ],
            "text/plain": [
              "<IPython.core.display.HTML object>"
            ]
          },
          "metadata": {
            "tags": []
          }
        },
        {
          "output_type": "stream",
          "text": [
            "Saving ionosphere.csv to ionosphere.csv\n"
          ],
          "name": "stdout"
        }
      ]
    },
    {
      "cell_type": "code",
      "metadata": {
        "id": "YfbihCT6XUAR",
        "colab_type": "code",
        "colab": {
          "base_uri": "https://localhost:8080/",
          "height": 34
        },
        "outputId": "d778e659-adf3-4bcc-810c-e99cdc21ab9c"
      },
      "source": [
        "from pandas import read_csv\n",
        "from keras.models import Sequential\n",
        "from keras.layers import Dense\n",
        "from keras.optimizers import SGD\n",
        "from sklearn.preprocessing import LabelEncoder\n",
        "# load dataset\n",
        "dataframe = read_csv(\"ionosphere.csv\", header=None)\n",
        "dataset = dataframe.values"
      ],
      "execution_count": 3,
      "outputs": [
        {
          "output_type": "stream",
          "text": [
            "Using TensorFlow backend.\n"
          ],
          "name": "stderr"
        }
      ]
    },
    {
      "cell_type": "code",
      "metadata": {
        "id": "jkpRlr1hXkyX",
        "colab_type": "code",
        "colab": {}
      },
      "source": [
        "X = dataset[:,0:34].astype(float)\n",
        "Y = dataset[:,34]"
      ],
      "execution_count": 0,
      "outputs": []
    },
    {
      "cell_type": "code",
      "metadata": {
        "id": "2j5q_7N3Xp5c",
        "colab_type": "code",
        "colab": {}
      },
      "source": [
        "encoder=LabelEncoder()\n",
        "encoder.fit(Y)\n",
        "Y=encoder.transform(Y)"
      ],
      "execution_count": 0,
      "outputs": []
    },
    {
      "cell_type": "code",
      "metadata": {
        "id": "a02cUv8AX-jl",
        "colab_type": "code",
        "colab": {}
      },
      "source": [
        "model = Sequential()\n",
        "model.add(Dense(34, input_dim=34, activation='relu'))\n",
        "model.add(Dense(1, activation='sigmoid'))"
      ],
      "execution_count": 0,
      "outputs": []
    },
    {
      "cell_type": "code",
      "metadata": {
        "id": "kLccFszzX-8C",
        "colab_type": "code",
        "colab": {}
      },
      "source": [
        "epochs = 50\n",
        "learning_rate = 0.1\n",
        "decay_rate = learning_rate / epochs\n",
        "momentum = 0.8"
      ],
      "execution_count": 0,
      "outputs": []
    },
    {
      "cell_type": "code",
      "metadata": {
        "id": "dq12UJ6TYB28",
        "colab_type": "code",
        "colab": {
          "base_uri": "https://localhost:8080/",
          "height": 1000
        },
        "outputId": "805c0add-5bcb-4733-b7f2-7c26c4834063"
      },
      "source": [
        "sgd = SGD(lr=learning_rate, momentum=momentum, decay=decay_rate, nesterov=False)\n",
        "model.compile(loss='binary_crossentropy', optimizer=sgd, metrics=['accuracy'])\n",
        "# Fit the model\n",
        "model.fit(X, Y, validation_split=0.33, epochs=epochs, batch_size=28, verbose=2)"
      ],
      "execution_count": 8,
      "outputs": [
        {
          "output_type": "stream",
          "text": [
            "Train on 235 samples, validate on 116 samples\n",
            "Epoch 1/50\n",
            " - 0s - loss: 0.6765 - accuracy: 0.5830 - val_loss: 0.6340 - val_accuracy: 0.6638\n",
            "Epoch 2/50\n",
            " - 0s - loss: 0.4622 - accuracy: 0.8426 - val_loss: 0.4524 - val_accuracy: 0.9224\n",
            "Epoch 3/50\n",
            " - 0s - loss: 0.3475 - accuracy: 0.9021 - val_loss: 0.2271 - val_accuracy: 0.9655\n",
            "Epoch 4/50\n",
            " - 0s - loss: 0.2761 - accuracy: 0.9064 - val_loss: 0.1948 - val_accuracy: 0.9655\n",
            "Epoch 5/50\n",
            " - 0s - loss: 0.2402 - accuracy: 0.9277 - val_loss: 0.1678 - val_accuracy: 0.9741\n",
            "Epoch 6/50\n",
            " - 0s - loss: 0.2147 - accuracy: 0.9234 - val_loss: 0.3196 - val_accuracy: 0.9310\n",
            "Epoch 7/50\n",
            " - 0s - loss: 0.1987 - accuracy: 0.9362 - val_loss: 0.1242 - val_accuracy: 0.9655\n",
            "Epoch 8/50\n",
            " - 0s - loss: 0.1755 - accuracy: 0.9362 - val_loss: 0.1710 - val_accuracy: 0.9655\n",
            "Epoch 9/50\n",
            " - 0s - loss: 0.1569 - accuracy: 0.9447 - val_loss: 0.1469 - val_accuracy: 0.9655\n",
            "Epoch 10/50\n",
            " - 0s - loss: 0.1486 - accuracy: 0.9489 - val_loss: 0.1060 - val_accuracy: 0.9655\n",
            "Epoch 11/50\n",
            " - 0s - loss: 0.1464 - accuracy: 0.9447 - val_loss: 0.1749 - val_accuracy: 0.9655\n",
            "Epoch 12/50\n",
            " - 0s - loss: 0.1399 - accuracy: 0.9574 - val_loss: 0.1624 - val_accuracy: 0.9655\n",
            "Epoch 13/50\n",
            " - 0s - loss: 0.1385 - accuracy: 0.9532 - val_loss: 0.0956 - val_accuracy: 0.9741\n",
            "Epoch 14/50\n",
            " - 0s - loss: 0.1180 - accuracy: 0.9745 - val_loss: 0.1225 - val_accuracy: 0.9569\n",
            "Epoch 15/50\n",
            " - 0s - loss: 0.1102 - accuracy: 0.9702 - val_loss: 0.1358 - val_accuracy: 0.9655\n",
            "Epoch 16/50\n",
            " - 0s - loss: 0.1060 - accuracy: 0.9702 - val_loss: 0.1104 - val_accuracy: 0.9655\n",
            "Epoch 17/50\n",
            " - 0s - loss: 0.1025 - accuracy: 0.9787 - val_loss: 0.1155 - val_accuracy: 0.9569\n",
            "Epoch 18/50\n",
            " - 0s - loss: 0.0964 - accuracy: 0.9745 - val_loss: 0.1210 - val_accuracy: 0.9569\n",
            "Epoch 19/50\n",
            " - 0s - loss: 0.1026 - accuracy: 0.9532 - val_loss: 0.0812 - val_accuracy: 0.9741\n",
            "Epoch 20/50\n",
            " - 0s - loss: 0.0962 - accuracy: 0.9787 - val_loss: 0.1335 - val_accuracy: 0.9569\n",
            "Epoch 21/50\n",
            " - 0s - loss: 0.0851 - accuracy: 0.9787 - val_loss: 0.0820 - val_accuracy: 0.9741\n",
            "Epoch 22/50\n",
            " - 0s - loss: 0.0872 - accuracy: 0.9830 - val_loss: 0.1302 - val_accuracy: 0.9569\n",
            "Epoch 23/50\n",
            " - 0s - loss: 0.0832 - accuracy: 0.9745 - val_loss: 0.0852 - val_accuracy: 0.9741\n",
            "Epoch 24/50\n",
            " - 0s - loss: 0.0822 - accuracy: 0.9787 - val_loss: 0.0978 - val_accuracy: 0.9655\n",
            "Epoch 25/50\n",
            " - 0s - loss: 0.0772 - accuracy: 0.9830 - val_loss: 0.0916 - val_accuracy: 0.9655\n",
            "Epoch 26/50\n",
            " - 0s - loss: 0.0742 - accuracy: 0.9830 - val_loss: 0.1051 - val_accuracy: 0.9655\n",
            "Epoch 27/50\n",
            " - 0s - loss: 0.0743 - accuracy: 0.9872 - val_loss: 0.0799 - val_accuracy: 0.9741\n",
            "Epoch 28/50\n",
            " - 0s - loss: 0.0779 - accuracy: 0.9787 - val_loss: 0.1037 - val_accuracy: 0.9655\n",
            "Epoch 29/50\n",
            " - 0s - loss: 0.0695 - accuracy: 0.9830 - val_loss: 0.0946 - val_accuracy: 0.9655\n",
            "Epoch 30/50\n",
            " - 0s - loss: 0.0673 - accuracy: 0.9830 - val_loss: 0.0881 - val_accuracy: 0.9655\n",
            "Epoch 31/50\n",
            " - 0s - loss: 0.0650 - accuracy: 0.9830 - val_loss: 0.0917 - val_accuracy: 0.9655\n",
            "Epoch 32/50\n",
            " - 0s - loss: 0.0642 - accuracy: 0.9830 - val_loss: 0.0932 - val_accuracy: 0.9655\n",
            "Epoch 33/50\n",
            " - 0s - loss: 0.0625 - accuracy: 0.9830 - val_loss: 0.0977 - val_accuracy: 0.9655\n",
            "Epoch 34/50\n",
            " - 0s - loss: 0.0654 - accuracy: 0.9872 - val_loss: 0.0826 - val_accuracy: 0.9741\n",
            "Epoch 35/50\n",
            " - 0s - loss: 0.0593 - accuracy: 0.9830 - val_loss: 0.1004 - val_accuracy: 0.9569\n",
            "Epoch 36/50\n",
            " - 0s - loss: 0.0617 - accuracy: 0.9872 - val_loss: 0.0764 - val_accuracy: 0.9741\n",
            "Epoch 37/50\n",
            " - 0s - loss: 0.0580 - accuracy: 0.9830 - val_loss: 0.0975 - val_accuracy: 0.9569\n",
            "Epoch 38/50\n",
            " - 0s - loss: 0.0589 - accuracy: 0.9872 - val_loss: 0.0761 - val_accuracy: 0.9741\n",
            "Epoch 39/50\n",
            " - 0s - loss: 0.0574 - accuracy: 0.9830 - val_loss: 0.0854 - val_accuracy: 0.9655\n",
            "Epoch 40/50\n",
            " - 0s - loss: 0.0543 - accuracy: 0.9872 - val_loss: 0.0922 - val_accuracy: 0.9569\n",
            "Epoch 41/50\n",
            " - 0s - loss: 0.0568 - accuracy: 0.9872 - val_loss: 0.0847 - val_accuracy: 0.9655\n",
            "Epoch 42/50\n",
            " - 0s - loss: 0.0529 - accuracy: 0.9872 - val_loss: 0.0834 - val_accuracy: 0.9569\n",
            "Epoch 43/50\n",
            " - 0s - loss: 0.0514 - accuracy: 0.9872 - val_loss: 0.0820 - val_accuracy: 0.9569\n",
            "Epoch 44/50\n",
            " - 0s - loss: 0.0526 - accuracy: 0.9872 - val_loss: 0.0827 - val_accuracy: 0.9569\n",
            "Epoch 45/50\n",
            " - 0s - loss: 0.0519 - accuracy: 0.9872 - val_loss: 0.0831 - val_accuracy: 0.9569\n",
            "Epoch 46/50\n",
            " - 0s - loss: 0.0533 - accuracy: 0.9872 - val_loss: 0.0867 - val_accuracy: 0.9655\n",
            "Epoch 47/50\n",
            " - 0s - loss: 0.0505 - accuracy: 0.9915 - val_loss: 0.0876 - val_accuracy: 0.9569\n",
            "Epoch 48/50\n",
            " - 0s - loss: 0.0477 - accuracy: 0.9872 - val_loss: 0.0814 - val_accuracy: 0.9569\n",
            "Epoch 49/50\n",
            " - 0s - loss: 0.0477 - accuracy: 0.9915 - val_loss: 0.0864 - val_accuracy: 0.9569\n",
            "Epoch 50/50\n",
            " - 0s - loss: 0.0465 - accuracy: 0.9915 - val_loss: 0.0846 - val_accuracy: 0.9569\n"
          ],
          "name": "stdout"
        },
        {
          "output_type": "execute_result",
          "data": {
            "text/plain": [
              "<keras.callbacks.callbacks.History at 0x7f8acd4199b0>"
            ]
          },
          "metadata": {
            "tags": []
          },
          "execution_count": 8
        }
      ]
    },
    {
      "cell_type": "markdown",
      "metadata": {
        "id": "f2tKGPjvYSQc",
        "colab_type": "text"
      },
      "source": [
        "Drop learning rate:"
      ]
    },
    {
      "cell_type": "code",
      "metadata": {
        "id": "h2rCydRuYGbu",
        "colab_type": "code",
        "colab": {}
      },
      "source": [
        "from keras.callbacks import LearningRateScheduler\n",
        "import math"
      ],
      "execution_count": 0,
      "outputs": []
    },
    {
      "cell_type": "code",
      "metadata": {
        "id": "_rvDb4NpYU6W",
        "colab_type": "code",
        "colab": {}
      },
      "source": [
        "def step_decay(epoch):\n",
        "  initial_lrate=0.1\n",
        "  drop=0.5\n",
        "  epochs_drop=10.0\n",
        "  lrate=initial_lrate*math.pow(drop, math.floor((1+epoch)/epochs_drop))\n",
        "  return lrate"
      ],
      "execution_count": 0,
      "outputs": []
    },
    {
      "cell_type": "code",
      "metadata": {
        "id": "1DkD0OOpYrkS",
        "colab_type": "code",
        "colab": {}
      },
      "source": [
        "lrate = LearningRateScheduler(step_decay)\n",
        "callbacks_list = [lrate]"
      ],
      "execution_count": 0,
      "outputs": []
    },
    {
      "cell_type": "code",
      "metadata": {
        "id": "GQtAdVIzYx2_",
        "colab_type": "code",
        "colab": {
          "base_uri": "https://localhost:8080/",
          "height": 1000
        },
        "outputId": "ff77f3e4-973f-478c-a8e1-855b1240d42c"
      },
      "source": [
        "model.fit(X, Y, validation_split=0.33, epochs=50, batch_size=28, callbacks=callbacks_list, verbose=2)"
      ],
      "execution_count": 16,
      "outputs": [
        {
          "output_type": "stream",
          "text": [
            "Train on 235 samples, validate on 116 samples\n",
            "Epoch 1/50\n",
            " - 0s - loss: 0.0467 - accuracy: 0.9872 - val_loss: 0.0890 - val_accuracy: 0.9569\n",
            "Epoch 2/50\n",
            " - 0s - loss: 0.0459 - accuracy: 0.9915 - val_loss: 0.0821 - val_accuracy: 0.9569\n",
            "Epoch 3/50\n",
            " - 0s - loss: 0.0442 - accuracy: 0.9915 - val_loss: 0.0812 - val_accuracy: 0.9569\n",
            "Epoch 4/50\n",
            " - 0s - loss: 0.0450 - accuracy: 0.9915 - val_loss: 0.0872 - val_accuracy: 0.9569\n",
            "Epoch 5/50\n",
            " - 0s - loss: 0.0436 - accuracy: 0.9957 - val_loss: 0.0795 - val_accuracy: 0.9569\n",
            "Epoch 6/50\n",
            " - 0s - loss: 0.0438 - accuracy: 0.9915 - val_loss: 0.0833 - val_accuracy: 0.9569\n",
            "Epoch 7/50\n",
            " - 0s - loss: 0.0425 - accuracy: 0.9957 - val_loss: 0.0793 - val_accuracy: 0.9569\n",
            "Epoch 8/50\n",
            " - 0s - loss: 0.0437 - accuracy: 0.9915 - val_loss: 0.0844 - val_accuracy: 0.9569\n",
            "Epoch 9/50\n",
            " - 0s - loss: 0.0434 - accuracy: 0.9915 - val_loss: 0.0888 - val_accuracy: 0.9569\n",
            "Epoch 10/50\n",
            " - 0s - loss: 0.0416 - accuracy: 0.9915 - val_loss: 0.0854 - val_accuracy: 0.9569\n",
            "Epoch 11/50\n",
            " - 0s - loss: 0.0409 - accuracy: 0.9957 - val_loss: 0.0798 - val_accuracy: 0.9569\n",
            "Epoch 12/50\n",
            " - 0s - loss: 0.0411 - accuracy: 0.9915 - val_loss: 0.0841 - val_accuracy: 0.9569\n",
            "Epoch 13/50\n",
            " - 0s - loss: 0.0406 - accuracy: 0.9957 - val_loss: 0.0800 - val_accuracy: 0.9569\n",
            "Epoch 14/50\n",
            " - 0s - loss: 0.0407 - accuracy: 0.9957 - val_loss: 0.0892 - val_accuracy: 0.9569\n",
            "Epoch 15/50\n",
            " - 0s - loss: 0.0398 - accuracy: 0.9957 - val_loss: 0.0826 - val_accuracy: 0.9569\n",
            "Epoch 16/50\n",
            " - 0s - loss: 0.0396 - accuracy: 0.9957 - val_loss: 0.0826 - val_accuracy: 0.9569\n",
            "Epoch 17/50\n",
            " - 0s - loss: 0.0405 - accuracy: 0.9915 - val_loss: 0.0842 - val_accuracy: 0.9569\n",
            "Epoch 18/50\n",
            " - 0s - loss: 0.0395 - accuracy: 0.9957 - val_loss: 0.0807 - val_accuracy: 0.9569\n",
            "Epoch 19/50\n",
            " - 0s - loss: 0.0391 - accuracy: 0.9957 - val_loss: 0.0822 - val_accuracy: 0.9569\n",
            "Epoch 20/50\n",
            " - 0s - loss: 0.0385 - accuracy: 0.9957 - val_loss: 0.0844 - val_accuracy: 0.9569\n",
            "Epoch 21/50\n",
            " - 0s - loss: 0.0387 - accuracy: 0.9915 - val_loss: 0.0856 - val_accuracy: 0.9569\n",
            "Epoch 22/50\n",
            " - 0s - loss: 0.0384 - accuracy: 0.9957 - val_loss: 0.0837 - val_accuracy: 0.9569\n",
            "Epoch 23/50\n",
            " - 0s - loss: 0.0385 - accuracy: 0.9957 - val_loss: 0.0839 - val_accuracy: 0.9569\n",
            "Epoch 24/50\n",
            " - 0s - loss: 0.0383 - accuracy: 0.9957 - val_loss: 0.0841 - val_accuracy: 0.9569\n",
            "Epoch 25/50\n",
            " - 0s - loss: 0.0383 - accuracy: 0.9957 - val_loss: 0.0840 - val_accuracy: 0.9569\n",
            "Epoch 26/50\n",
            " - 0s - loss: 0.0385 - accuracy: 0.9957 - val_loss: 0.0821 - val_accuracy: 0.9569\n",
            "Epoch 27/50\n",
            " - 0s - loss: 0.0382 - accuracy: 0.9957 - val_loss: 0.0809 - val_accuracy: 0.9569\n",
            "Epoch 28/50\n",
            " - 0s - loss: 0.0378 - accuracy: 0.9957 - val_loss: 0.0868 - val_accuracy: 0.9569\n",
            "Epoch 29/50\n",
            " - 0s - loss: 0.0380 - accuracy: 0.9957 - val_loss: 0.0843 - val_accuracy: 0.9569\n",
            "Epoch 30/50\n",
            " - 0s - loss: 0.0377 - accuracy: 0.9957 - val_loss: 0.0828 - val_accuracy: 0.9569\n",
            "Epoch 31/50\n",
            " - 0s - loss: 0.0377 - accuracy: 0.9957 - val_loss: 0.0827 - val_accuracy: 0.9569\n",
            "Epoch 32/50\n",
            " - 0s - loss: 0.0375 - accuracy: 0.9957 - val_loss: 0.0852 - val_accuracy: 0.9569\n",
            "Epoch 33/50\n",
            " - 0s - loss: 0.0377 - accuracy: 0.9957 - val_loss: 0.0848 - val_accuracy: 0.9569\n",
            "Epoch 34/50\n",
            " - 0s - loss: 0.0376 - accuracy: 0.9957 - val_loss: 0.0835 - val_accuracy: 0.9569\n",
            "Epoch 35/50\n",
            " - 0s - loss: 0.0376 - accuracy: 0.9957 - val_loss: 0.0830 - val_accuracy: 0.9569\n",
            "Epoch 36/50\n",
            " - 0s - loss: 0.0375 - accuracy: 0.9957 - val_loss: 0.0832 - val_accuracy: 0.9569\n",
            "Epoch 37/50\n",
            " - 0s - loss: 0.0375 - accuracy: 0.9957 - val_loss: 0.0834 - val_accuracy: 0.9569\n",
            "Epoch 38/50\n",
            " - 0s - loss: 0.0374 - accuracy: 0.9957 - val_loss: 0.0829 - val_accuracy: 0.9569\n",
            "Epoch 39/50\n",
            " - 0s - loss: 0.0373 - accuracy: 0.9957 - val_loss: 0.0819 - val_accuracy: 0.9569\n",
            "Epoch 40/50\n",
            " - 0s - loss: 0.0374 - accuracy: 0.9957 - val_loss: 0.0809 - val_accuracy: 0.9569\n",
            "Epoch 41/50\n",
            " - 0s - loss: 0.0373 - accuracy: 0.9957 - val_loss: 0.0812 - val_accuracy: 0.9569\n",
            "Epoch 42/50\n",
            " - 0s - loss: 0.0373 - accuracy: 0.9957 - val_loss: 0.0816 - val_accuracy: 0.9569\n",
            "Epoch 43/50\n",
            " - 0s - loss: 0.0372 - accuracy: 0.9957 - val_loss: 0.0819 - val_accuracy: 0.9569\n",
            "Epoch 44/50\n",
            " - 0s - loss: 0.0372 - accuracy: 0.9957 - val_loss: 0.0819 - val_accuracy: 0.9569\n",
            "Epoch 45/50\n",
            " - 0s - loss: 0.0372 - accuracy: 0.9957 - val_loss: 0.0821 - val_accuracy: 0.9569\n",
            "Epoch 46/50\n",
            " - 0s - loss: 0.0372 - accuracy: 0.9957 - val_loss: 0.0822 - val_accuracy: 0.9569\n",
            "Epoch 47/50\n",
            " - 0s - loss: 0.0372 - accuracy: 0.9957 - val_loss: 0.0824 - val_accuracy: 0.9569\n",
            "Epoch 48/50\n",
            " - 0s - loss: 0.0372 - accuracy: 0.9957 - val_loss: 0.0821 - val_accuracy: 0.9569\n",
            "Epoch 49/50\n",
            " - 0s - loss: 0.0371 - accuracy: 0.9957 - val_loss: 0.0825 - val_accuracy: 0.9569\n",
            "Epoch 50/50\n",
            " - 0s - loss: 0.0371 - accuracy: 0.9957 - val_loss: 0.0825 - val_accuracy: 0.9569\n"
          ],
          "name": "stdout"
        },
        {
          "output_type": "execute_result",
          "data": {
            "text/plain": [
              "<keras.callbacks.callbacks.History at 0x7f8acc5221d0>"
            ]
          },
          "metadata": {
            "tags": []
          },
          "execution_count": 16
        }
      ]
    },
    {
      "cell_type": "markdown",
      "metadata": {
        "id": "PVD1xxkqZEGA",
        "colab_type": "text"
      },
      "source": [
        "Tips for Using Learning Rate Schedules\n",
        "This section lists some tips and tricks to consider when using learning rate schedules with neural networks.\n",
        "\n",
        "Increase the initial learning rate. Because the learning rate will very likely decrease, start with a larger value to decrease from. A larger learning rate will result in a lot larger changes to the weights, at least in the beginning, allowing you to benefit from the fine tuning later.\n",
        "\n",
        "Use a large momentum. Using a larger momentum value will help the optimization algorithm to continue to make updates in the right direction when your learning rate shrinks to small values.\n",
        "\n",
        "Experiment with different schedules. It will not be clear which learning rate schedule to use so try a few with different configuration options and see what works best on your problem. Also try schedules that change exponentially and even schedules that respond to the accuracy of your model on the training or test datasets."
      ]
    },
    {
      "cell_type": "code",
      "metadata": {
        "id": "xjZoTvbeY3ZD",
        "colab_type": "code",
        "colab": {}
      },
      "source": [
        ""
      ],
      "execution_count": 0,
      "outputs": []
    }
  ]
}