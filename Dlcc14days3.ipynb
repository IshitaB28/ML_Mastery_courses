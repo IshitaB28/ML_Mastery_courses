{
  "nbformat": 4,
  "nbformat_minor": 0,
  "metadata": {
    "colab": {
      "name": "Dlcc14days3.ipynb",
      "provenance": [],
      "collapsed_sections": [],
      "authorship_tag": "ABX9TyNw2AD2SxXGiWQWdbCQk6e8",
      "include_colab_link": true
    },
    "kernelspec": {
      "name": "python3",
      "display_name": "Python 3"
    }
  },
  "cells": [
    {
      "cell_type": "markdown",
      "metadata": {
        "id": "view-in-github",
        "colab_type": "text"
      },
      "source": [
        "<a href=\"https://colab.research.google.com/github/IshitaB28/ML_Mastery_courses/blob/master/Dlcc14days3.ipynb\" target=\"_parent\"><img src=\"https://colab.research.google.com/assets/colab-badge.svg\" alt=\"Open In Colab\"/></a>"
      ]
    },
    {
      "cell_type": "markdown",
      "metadata": {
        "id": "fbw0UmRCCb-J",
        "colab_type": "text"
      },
      "source": [
        "Keras is basically the go-to library that is bets suitable for the deep learning practices.\n",
        "A network can have multiple layer and each layer can have multiple neurons. The architecture of neurons is called network topology.\n",
        "Stochastic gradient descent is the classical and most preferred training algorithm.\n",
        "\n",
        "Let's go on to create a neural network."
      ]
    },
    {
      "cell_type": "code",
      "metadata": {
        "id": "qKw_kJD9DGjN",
        "colab_type": "code",
        "colab": {}
      },
      "source": [
        "from keras.models import Sequential\n",
        "from keras.layers import Dense\n",
        "import numpy"
      ],
      "execution_count": 0,
      "outputs": []
    },
    {
      "cell_type": "code",
      "metadata": {
        "id": "46c3mVxwEgC_",
        "colab_type": "code",
        "colab": {
          "resources": {
            "http://localhost:8080/nbextensions/google.colab/files.js": {
              "data": "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",
              "ok": true,
              "headers": [
                [
                  "content-type",
                  "application/javascript"
                ]
              ],
              "status": 200,
              "status_text": ""
            }
          },
          "base_uri": "https://localhost:8080/",
          "height": 74
        },
        "outputId": "3c3b0471-c444-4780-fad9-43cf07e3b8a7"
      },
      "source": [
        "from google.colab import files\n",
        "uploaded=files.upload()"
      ],
      "execution_count": 7,
      "outputs": [
        {
          "output_type": "display_data",
          "data": {
            "text/html": [
              "\n",
              "     <input type=\"file\" id=\"files-8dd6deea-883d-4d90-87f3-6e607185484f\" name=\"files[]\" multiple disabled />\n",
              "     <output id=\"result-8dd6deea-883d-4d90-87f3-6e607185484f\">\n",
              "      Upload widget is only available when the cell has been executed in the\n",
              "      current browser session. Please rerun this cell to enable.\n",
              "      </output>\n",
              "      <script src=\"/nbextensions/google.colab/files.js\"></script> "
            ],
            "text/plain": [
              "<IPython.core.display.HTML object>"
            ]
          },
          "metadata": {
            "tags": []
          }
        },
        {
          "output_type": "stream",
          "text": [
            "Saving pima-indians-diabetes.data.csv to pima-indians-diabetes.data.csv\n"
          ],
          "name": "stdout"
        }
      ]
    },
    {
      "cell_type": "code",
      "metadata": {
        "id": "BdQ6KQF5EBuU",
        "colab_type": "code",
        "colab": {}
      },
      "source": [
        "dataset=numpy.loadtxt(\"pima-indians-diabetes.data.csv\", delimiter=\",\")"
      ],
      "execution_count": 0,
      "outputs": []
    },
    {
      "cell_type": "code",
      "metadata": {
        "id": "Fh3Lqg4sEM2V",
        "colab_type": "code",
        "colab": {}
      },
      "source": [
        "X=dataset[:, 0:8]\n",
        "y=dataset[:, 8]"
      ],
      "execution_count": 0,
      "outputs": []
    },
    {
      "cell_type": "code",
      "metadata": {
        "id": "zwR8_7YLEycV",
        "colab_type": "code",
        "colab": {
          "base_uri": "https://localhost:8080/",
          "height": 1000
        },
        "outputId": "8943b2f5-f2ce-4a58-d45a-39f7fd320d11"
      },
      "source": [
        "model=Sequential()\n",
        "\n",
        "model.add(Dense(12, input_dim=8, activation='relu'))\n",
        "model.add(Dense(8, activation='relu'))\n",
        "model.add(Dense(1, activation='sigmoid'))\n",
        "\n",
        "model.compile(loss='binary_crossentropy', optimizer='adam', metrics=['accuracy'])\n",
        "\n",
        "model.fit(X, y, epochs=150, batch_size=10)"
      ],
      "execution_count": 18,
      "outputs": [
        {
          "output_type": "stream",
          "text": [
            "Epoch 1/150\n",
            "768/768 [==============================] - 0s 216us/step - loss: 1.6863 - accuracy: 0.5911\n",
            "Epoch 2/150\n",
            "768/768 [==============================] - 0s 106us/step - loss: 0.6959 - accuracy: 0.6706\n",
            "Epoch 3/150\n",
            "768/768 [==============================] - 0s 116us/step - loss: 0.6723 - accuracy: 0.6758\n",
            "Epoch 4/150\n",
            "768/768 [==============================] - 0s 107us/step - loss: 0.6624 - accuracy: 0.6875\n",
            "Epoch 5/150\n",
            "768/768 [==============================] - 0s 108us/step - loss: 0.6522 - accuracy: 0.6732\n",
            "Epoch 6/150\n",
            "768/768 [==============================] - 0s 106us/step - loss: 0.6486 - accuracy: 0.6940\n",
            "Epoch 7/150\n",
            "768/768 [==============================] - 0s 116us/step - loss: 0.6449 - accuracy: 0.6914\n",
            "Epoch 8/150\n",
            "768/768 [==============================] - 0s 108us/step - loss: 0.6381 - accuracy: 0.6927\n",
            "Epoch 9/150\n",
            "768/768 [==============================] - 0s 108us/step - loss: 0.6295 - accuracy: 0.7018\n",
            "Epoch 10/150\n",
            "768/768 [==============================] - 0s 109us/step - loss: 0.6257 - accuracy: 0.7031\n",
            "Epoch 11/150\n",
            "768/768 [==============================] - 0s 110us/step - loss: 0.6265 - accuracy: 0.6849\n",
            "Epoch 12/150\n",
            "768/768 [==============================] - 0s 127us/step - loss: 0.6192 - accuracy: 0.6940\n",
            "Epoch 13/150\n",
            "768/768 [==============================] - 0s 108us/step - loss: 0.6170 - accuracy: 0.6927\n",
            "Epoch 14/150\n",
            "768/768 [==============================] - 0s 112us/step - loss: 0.6146 - accuracy: 0.7018\n",
            "Epoch 15/150\n",
            "768/768 [==============================] - 0s 108us/step - loss: 0.6087 - accuracy: 0.7018\n",
            "Epoch 16/150\n",
            "768/768 [==============================] - 0s 130us/step - loss: 0.6097 - accuracy: 0.7031\n",
            "Epoch 17/150\n",
            "768/768 [==============================] - 0s 110us/step - loss: 0.6062 - accuracy: 0.6966\n",
            "Epoch 18/150\n",
            "768/768 [==============================] - 0s 113us/step - loss: 0.6086 - accuracy: 0.6992\n",
            "Epoch 19/150\n",
            "768/768 [==============================] - 0s 111us/step - loss: 0.6033 - accuracy: 0.7044\n",
            "Epoch 20/150\n",
            "768/768 [==============================] - 0s 109us/step - loss: 0.6056 - accuracy: 0.6992\n",
            "Epoch 21/150\n",
            "768/768 [==============================] - 0s 112us/step - loss: 0.6051 - accuracy: 0.7018\n",
            "Epoch 22/150\n",
            "768/768 [==============================] - 0s 111us/step - loss: 0.5998 - accuracy: 0.7070\n",
            "Epoch 23/150\n",
            "768/768 [==============================] - 0s 112us/step - loss: 0.5994 - accuracy: 0.7031\n",
            "Epoch 24/150\n",
            "768/768 [==============================] - 0s 112us/step - loss: 0.5937 - accuracy: 0.7057\n",
            "Epoch 25/150\n",
            "768/768 [==============================] - 0s 109us/step - loss: 0.5958 - accuracy: 0.7135\n",
            "Epoch 26/150\n",
            "768/768 [==============================] - 0s 119us/step - loss: 0.5995 - accuracy: 0.7057\n",
            "Epoch 27/150\n",
            "768/768 [==============================] - 0s 113us/step - loss: 0.5936 - accuracy: 0.7044\n",
            "Epoch 28/150\n",
            "768/768 [==============================] - 0s 112us/step - loss: 0.5956 - accuracy: 0.7057\n",
            "Epoch 29/150\n",
            "768/768 [==============================] - 0s 112us/step - loss: 0.5959 - accuracy: 0.7005\n",
            "Epoch 30/150\n",
            "768/768 [==============================] - 0s 121us/step - loss: 0.5920 - accuracy: 0.7070\n",
            "Epoch 31/150\n",
            "768/768 [==============================] - 0s 115us/step - loss: 0.5918 - accuracy: 0.7083\n",
            "Epoch 32/150\n",
            "768/768 [==============================] - 0s 109us/step - loss: 0.5898 - accuracy: 0.7018\n",
            "Epoch 33/150\n",
            "768/768 [==============================] - 0s 109us/step - loss: 0.5906 - accuracy: 0.6966\n",
            "Epoch 34/150\n",
            "768/768 [==============================] - 0s 109us/step - loss: 0.5931 - accuracy: 0.6953\n",
            "Epoch 35/150\n",
            "768/768 [==============================] - 0s 116us/step - loss: 0.5973 - accuracy: 0.7044\n",
            "Epoch 36/150\n",
            "768/768 [==============================] - 0s 108us/step - loss: 0.5908 - accuracy: 0.7083\n",
            "Epoch 37/150\n",
            "768/768 [==============================] - 0s 114us/step - loss: 0.5881 - accuracy: 0.7057\n",
            "Epoch 38/150\n",
            "768/768 [==============================] - 0s 108us/step - loss: 0.5895 - accuracy: 0.7109\n",
            "Epoch 39/150\n",
            "768/768 [==============================] - 0s 122us/step - loss: 0.5879 - accuracy: 0.7031\n",
            "Epoch 40/150\n",
            "768/768 [==============================] - 0s 108us/step - loss: 0.5837 - accuracy: 0.7096\n",
            "Epoch 41/150\n",
            "768/768 [==============================] - 0s 116us/step - loss: 0.5837 - accuracy: 0.7122\n",
            "Epoch 42/150\n",
            "768/768 [==============================] - 0s 116us/step - loss: 0.5915 - accuracy: 0.7005\n",
            "Epoch 43/150\n",
            "768/768 [==============================] - 0s 108us/step - loss: 0.5817 - accuracy: 0.7057\n",
            "Epoch 44/150\n",
            "768/768 [==============================] - 0s 108us/step - loss: 0.5866 - accuracy: 0.6992\n",
            "Epoch 45/150\n",
            "768/768 [==============================] - 0s 108us/step - loss: 0.5910 - accuracy: 0.6992\n",
            "Epoch 46/150\n",
            "768/768 [==============================] - 0s 111us/step - loss: 0.5805 - accuracy: 0.7148\n",
            "Epoch 47/150\n",
            "768/768 [==============================] - 0s 113us/step - loss: 0.5840 - accuracy: 0.7070\n",
            "Epoch 48/150\n",
            "768/768 [==============================] - 0s 110us/step - loss: 0.5822 - accuracy: 0.7148\n",
            "Epoch 49/150\n",
            "768/768 [==============================] - 0s 120us/step - loss: 0.5853 - accuracy: 0.7031\n",
            "Epoch 50/150\n",
            "768/768 [==============================] - 0s 109us/step - loss: 0.5790 - accuracy: 0.7161\n",
            "Epoch 51/150\n",
            "768/768 [==============================] - 0s 108us/step - loss: 0.5838 - accuracy: 0.7174\n",
            "Epoch 52/150\n",
            "768/768 [==============================] - 0s 110us/step - loss: 0.5840 - accuracy: 0.7201\n",
            "Epoch 53/150\n",
            "768/768 [==============================] - 0s 112us/step - loss: 0.5797 - accuracy: 0.7161\n",
            "Epoch 54/150\n",
            "768/768 [==============================] - 0s 108us/step - loss: 0.5816 - accuracy: 0.7096\n",
            "Epoch 55/150\n",
            "768/768 [==============================] - 0s 110us/step - loss: 0.5792 - accuracy: 0.7201\n",
            "Epoch 56/150\n",
            "768/768 [==============================] - 0s 114us/step - loss: 0.5772 - accuracy: 0.7109\n",
            "Epoch 57/150\n",
            "768/768 [==============================] - 0s 111us/step - loss: 0.5838 - accuracy: 0.7122\n",
            "Epoch 58/150\n",
            "768/768 [==============================] - 0s 110us/step - loss: 0.5831 - accuracy: 0.7083\n",
            "Epoch 59/150\n",
            "768/768 [==============================] - 0s 112us/step - loss: 0.5823 - accuracy: 0.7122\n",
            "Epoch 60/150\n",
            "768/768 [==============================] - 0s 112us/step - loss: 0.5754 - accuracy: 0.7201\n",
            "Epoch 61/150\n",
            "768/768 [==============================] - 0s 116us/step - loss: 0.5771 - accuracy: 0.7161\n",
            "Epoch 62/150\n",
            "768/768 [==============================] - 0s 145us/step - loss: 0.5768 - accuracy: 0.7161\n",
            "Epoch 63/150\n",
            "768/768 [==============================] - 0s 114us/step - loss: 0.5748 - accuracy: 0.7122\n",
            "Epoch 64/150\n",
            "768/768 [==============================] - 0s 110us/step - loss: 0.5768 - accuracy: 0.7188\n",
            "Epoch 65/150\n",
            "768/768 [==============================] - 0s 108us/step - loss: 0.5859 - accuracy: 0.7096\n",
            "Epoch 66/150\n",
            "768/768 [==============================] - 0s 107us/step - loss: 0.5816 - accuracy: 0.7135\n",
            "Epoch 67/150\n",
            "768/768 [==============================] - 0s 107us/step - loss: 0.5798 - accuracy: 0.7135\n",
            "Epoch 68/150\n",
            "768/768 [==============================] - 0s 106us/step - loss: 0.5798 - accuracy: 0.7096\n",
            "Epoch 69/150\n",
            "768/768 [==============================] - 0s 112us/step - loss: 0.5773 - accuracy: 0.7096\n",
            "Epoch 70/150\n",
            "768/768 [==============================] - 0s 112us/step - loss: 0.5750 - accuracy: 0.7201\n",
            "Epoch 71/150\n",
            "768/768 [==============================] - 0s 108us/step - loss: 0.5803 - accuracy: 0.7227\n",
            "Epoch 72/150\n",
            "768/768 [==============================] - 0s 116us/step - loss: 0.5775 - accuracy: 0.7174\n",
            "Epoch 73/150\n",
            "768/768 [==============================] - 0s 111us/step - loss: 0.5816 - accuracy: 0.7174\n",
            "Epoch 74/150\n",
            "768/768 [==============================] - 0s 109us/step - loss: 0.5744 - accuracy: 0.7083\n",
            "Epoch 75/150\n",
            "768/768 [==============================] - 0s 109us/step - loss: 0.5676 - accuracy: 0.7240\n",
            "Epoch 76/150\n",
            "768/768 [==============================] - 0s 110us/step - loss: 0.5666 - accuracy: 0.7201\n",
            "Epoch 77/150\n",
            "768/768 [==============================] - 0s 112us/step - loss: 0.5609 - accuracy: 0.7227\n",
            "Epoch 78/150\n",
            "768/768 [==============================] - 0s 108us/step - loss: 0.5512 - accuracy: 0.7318\n",
            "Epoch 79/150\n",
            "768/768 [==============================] - 0s 107us/step - loss: 0.5527 - accuracy: 0.7292\n",
            "Epoch 80/150\n",
            "768/768 [==============================] - 0s 110us/step - loss: 0.5543 - accuracy: 0.7279\n",
            "Epoch 81/150\n",
            "768/768 [==============================] - 0s 112us/step - loss: 0.5544 - accuracy: 0.7240\n",
            "Epoch 82/150\n",
            "768/768 [==============================] - 0s 120us/step - loss: 0.5450 - accuracy: 0.7344\n",
            "Epoch 83/150\n",
            "768/768 [==============================] - 0s 107us/step - loss: 0.5451 - accuracy: 0.7370\n",
            "Epoch 84/150\n",
            "768/768 [==============================] - 0s 113us/step - loss: 0.5384 - accuracy: 0.7344\n",
            "Epoch 85/150\n",
            "768/768 [==============================] - 0s 111us/step - loss: 0.5340 - accuracy: 0.7422\n",
            "Epoch 86/150\n",
            "768/768 [==============================] - 0s 113us/step - loss: 0.5315 - accuracy: 0.7396\n",
            "Epoch 87/150\n",
            "768/768 [==============================] - 0s 107us/step - loss: 0.5329 - accuracy: 0.7383\n",
            "Epoch 88/150\n",
            "768/768 [==============================] - 0s 110us/step - loss: 0.5289 - accuracy: 0.7383\n",
            "Epoch 89/150\n",
            "768/768 [==============================] - 0s 108us/step - loss: 0.5313 - accuracy: 0.7448\n",
            "Epoch 90/150\n",
            "768/768 [==============================] - 0s 110us/step - loss: 0.5326 - accuracy: 0.7461\n",
            "Epoch 91/150\n",
            "768/768 [==============================] - 0s 113us/step - loss: 0.5226 - accuracy: 0.7552\n",
            "Epoch 92/150\n",
            "768/768 [==============================] - 0s 110us/step - loss: 0.5250 - accuracy: 0.7409\n",
            "Epoch 93/150\n",
            "768/768 [==============================] - 0s 107us/step - loss: 0.5243 - accuracy: 0.7487\n",
            "Epoch 94/150\n",
            "768/768 [==============================] - 0s 109us/step - loss: 0.5191 - accuracy: 0.7617\n",
            "Epoch 95/150\n",
            "768/768 [==============================] - 0s 110us/step - loss: 0.5191 - accuracy: 0.7539\n",
            "Epoch 96/150\n",
            "768/768 [==============================] - 0s 130us/step - loss: 0.5158 - accuracy: 0.7513\n",
            "Epoch 97/150\n",
            "768/768 [==============================] - 0s 110us/step - loss: 0.5170 - accuracy: 0.7500\n",
            "Epoch 98/150\n",
            "768/768 [==============================] - 0s 110us/step - loss: 0.5199 - accuracy: 0.7435\n",
            "Epoch 99/150\n",
            "768/768 [==============================] - 0s 109us/step - loss: 0.5150 - accuracy: 0.7422\n",
            "Epoch 100/150\n",
            "768/768 [==============================] - 0s 109us/step - loss: 0.5159 - accuracy: 0.7513\n",
            "Epoch 101/150\n",
            "768/768 [==============================] - 0s 112us/step - loss: 0.5122 - accuracy: 0.7630\n",
            "Epoch 102/150\n",
            "768/768 [==============================] - 0s 108us/step - loss: 0.5156 - accuracy: 0.7513\n",
            "Epoch 103/150\n",
            "768/768 [==============================] - 0s 109us/step - loss: 0.5166 - accuracy: 0.7552\n",
            "Epoch 104/150\n",
            "768/768 [==============================] - 0s 109us/step - loss: 0.5124 - accuracy: 0.7513\n",
            "Epoch 105/150\n",
            "768/768 [==============================] - 0s 115us/step - loss: 0.5110 - accuracy: 0.7526\n",
            "Epoch 106/150\n",
            "768/768 [==============================] - 0s 110us/step - loss: 0.5085 - accuracy: 0.7526\n",
            "Epoch 107/150\n",
            "768/768 [==============================] - 0s 117us/step - loss: 0.5092 - accuracy: 0.7487\n",
            "Epoch 108/150\n",
            "768/768 [==============================] - 0s 108us/step - loss: 0.5101 - accuracy: 0.7552\n",
            "Epoch 109/150\n",
            "768/768 [==============================] - 0s 108us/step - loss: 0.5144 - accuracy: 0.7539\n",
            "Epoch 110/150\n",
            "768/768 [==============================] - 0s 122us/step - loss: 0.5091 - accuracy: 0.7539\n",
            "Epoch 111/150\n",
            "768/768 [==============================] - 0s 110us/step - loss: 0.5165 - accuracy: 0.7409\n",
            "Epoch 112/150\n",
            "768/768 [==============================] - 0s 107us/step - loss: 0.5121 - accuracy: 0.7474\n",
            "Epoch 113/150\n",
            "768/768 [==============================] - 0s 108us/step - loss: 0.5059 - accuracy: 0.7617\n",
            "Epoch 114/150\n",
            "768/768 [==============================] - 0s 110us/step - loss: 0.5127 - accuracy: 0.7513\n",
            "Epoch 115/150\n",
            "768/768 [==============================] - 0s 111us/step - loss: 0.5016 - accuracy: 0.7630\n",
            "Epoch 116/150\n",
            "768/768 [==============================] - 0s 110us/step - loss: 0.5072 - accuracy: 0.7435\n",
            "Epoch 117/150\n",
            "768/768 [==============================] - 0s 112us/step - loss: 0.5065 - accuracy: 0.7578\n",
            "Epoch 118/150\n",
            "768/768 [==============================] - 0s 108us/step - loss: 0.5030 - accuracy: 0.7669\n",
            "Epoch 119/150\n",
            "768/768 [==============================] - 0s 118us/step - loss: 0.5117 - accuracy: 0.7474\n",
            "Epoch 120/150\n",
            "768/768 [==============================] - 0s 110us/step - loss: 0.5060 - accuracy: 0.7734\n",
            "Epoch 121/150\n",
            "768/768 [==============================] - 0s 110us/step - loss: 0.5094 - accuracy: 0.7565\n",
            "Epoch 122/150\n",
            "768/768 [==============================] - 0s 109us/step - loss: 0.5032 - accuracy: 0.7630\n",
            "Epoch 123/150\n",
            "768/768 [==============================] - 0s 110us/step - loss: 0.5012 - accuracy: 0.7617\n",
            "Epoch 124/150\n",
            "768/768 [==============================] - 0s 112us/step - loss: 0.4983 - accuracy: 0.7643\n",
            "Epoch 125/150\n",
            "768/768 [==============================] - 0s 108us/step - loss: 0.5039 - accuracy: 0.7565\n",
            "Epoch 126/150\n",
            "768/768 [==============================] - 0s 110us/step - loss: 0.5001 - accuracy: 0.7552\n",
            "Epoch 127/150\n",
            "768/768 [==============================] - 0s 108us/step - loss: 0.5011 - accuracy: 0.7552\n",
            "Epoch 128/150\n",
            "768/768 [==============================] - 0s 113us/step - loss: 0.4991 - accuracy: 0.7539\n",
            "Epoch 129/150\n",
            "768/768 [==============================] - 0s 112us/step - loss: 0.5021 - accuracy: 0.7513\n",
            "Epoch 130/150\n",
            "768/768 [==============================] - 0s 111us/step - loss: 0.5015 - accuracy: 0.7604\n",
            "Epoch 131/150\n",
            "768/768 [==============================] - 0s 117us/step - loss: 0.5031 - accuracy: 0.7513\n",
            "Epoch 132/150\n",
            "768/768 [==============================] - 0s 111us/step - loss: 0.4999 - accuracy: 0.7617\n",
            "Epoch 133/150\n",
            "768/768 [==============================] - 0s 117us/step - loss: 0.5056 - accuracy: 0.7617\n",
            "Epoch 134/150\n",
            "768/768 [==============================] - 0s 114us/step - loss: 0.4943 - accuracy: 0.7708\n",
            "Epoch 135/150\n",
            "768/768 [==============================] - 0s 111us/step - loss: 0.4965 - accuracy: 0.7695\n",
            "Epoch 136/150\n",
            "768/768 [==============================] - 0s 129us/step - loss: 0.4961 - accuracy: 0.7591\n",
            "Epoch 137/150\n",
            "768/768 [==============================] - 0s 116us/step - loss: 0.5016 - accuracy: 0.7643\n",
            "Epoch 138/150\n",
            "768/768 [==============================] - 0s 111us/step - loss: 0.4961 - accuracy: 0.7773\n",
            "Epoch 139/150\n",
            "768/768 [==============================] - 0s 113us/step - loss: 0.4924 - accuracy: 0.7630\n",
            "Epoch 140/150\n",
            "768/768 [==============================] - 0s 110us/step - loss: 0.5033 - accuracy: 0.7656\n",
            "Epoch 141/150\n",
            "768/768 [==============================] - 0s 114us/step - loss: 0.4940 - accuracy: 0.7604\n",
            "Epoch 142/150\n",
            "768/768 [==============================] - 0s 118us/step - loss: 0.4953 - accuracy: 0.7643\n",
            "Epoch 143/150\n",
            "768/768 [==============================] - 0s 115us/step - loss: 0.4923 - accuracy: 0.7826\n",
            "Epoch 144/150\n",
            "768/768 [==============================] - 0s 113us/step - loss: 0.4939 - accuracy: 0.7852\n",
            "Epoch 145/150\n",
            "768/768 [==============================] - 0s 110us/step - loss: 0.4923 - accuracy: 0.7695\n",
            "Epoch 146/150\n",
            "768/768 [==============================] - 0s 113us/step - loss: 0.4949 - accuracy: 0.7656\n",
            "Epoch 147/150\n",
            "768/768 [==============================] - 0s 115us/step - loss: 0.5002 - accuracy: 0.7500\n",
            "Epoch 148/150\n",
            "768/768 [==============================] - 0s 112us/step - loss: 0.4984 - accuracy: 0.7565\n",
            "Epoch 149/150\n",
            "768/768 [==============================] - 0s 110us/step - loss: 0.4966 - accuracy: 0.7773\n",
            "Epoch 150/150\n",
            "768/768 [==============================] - 0s 113us/step - loss: 0.4950 - accuracy: 0.7591\n"
          ],
          "name": "stdout"
        },
        {
          "output_type": "execute_result",
          "data": {
            "text/plain": [
              "<keras.callbacks.callbacks.History at 0x7f1243da6828>"
            ]
          },
          "metadata": {
            "tags": []
          },
          "execution_count": 18
        }
      ]
    },
    {
      "cell_type": "code",
      "metadata": {
        "id": "AIlCEc9fFqD1",
        "colab_type": "code",
        "colab": {
          "base_uri": "https://localhost:8080/",
          "height": 51
        },
        "outputId": "592d4943-5733-4b58-a82a-d2e737934df9"
      },
      "source": [
        "scores=model.evaluate(X, y)\n",
        "\n",
        "print(\"%s  %.2f%%\" %(model.metrics_names[1], scores[1]*100))"
      ],
      "execution_count": 19,
      "outputs": [
        {
          "output_type": "stream",
          "text": [
            "768/768 [==============================] - 0s 40us/step\n",
            "accuracy  77.99%\n"
          ],
          "name": "stdout"
        }
      ]
    },
    {
      "cell_type": "code",
      "metadata": {
        "id": "1C_YjQmSGBRr",
        "colab_type": "code",
        "colab": {
          "base_uri": "https://localhost:8080/",
          "height": 34
        },
        "outputId": "e1f41d06-fa2e-4308-ab84-5dee3311f967"
      },
      "source": [
        "model.metrics_names"
      ],
      "execution_count": 20,
      "outputs": [
        {
          "output_type": "execute_result",
          "data": {
            "text/plain": [
              "['loss', 'accuracy']"
            ]
          },
          "metadata": {
            "tags": []
          },
          "execution_count": 20
        }
      ]
    },
    {
      "cell_type": "code",
      "metadata": {
        "id": "8ceC5uXxGESJ",
        "colab_type": "code",
        "colab": {
          "base_uri": "https://localhost:8080/",
          "height": 34
        },
        "outputId": "4c49f82a-32ce-4d1c-8bc1-98469b9042cf"
      },
      "source": [
        "scores"
      ],
      "execution_count": 21,
      "outputs": [
        {
          "output_type": "execute_result",
          "data": {
            "text/plain": [
              "[0.48549165949225426, 0.7799479365348816]"
            ]
          },
          "metadata": {
            "tags": []
          },
          "execution_count": 21
        }
      ]
    },
    {
      "cell_type": "code",
      "metadata": {
        "id": "qEmcqrGxGFzP",
        "colab_type": "code",
        "colab": {}
      },
      "source": [
        ""
      ],
      "execution_count": 0,
      "outputs": []
    }
  ]
}