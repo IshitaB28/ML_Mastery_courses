{
  "nbformat": 4,
  "nbformat_minor": 0,
  "metadata": {
    "colab": {
      "name": "Dlcc14days9.ipynb",
      "provenance": [],
      "collapsed_sections": [],
      "authorship_tag": "ABX9TyPd2jTlU2Wk4P/euX1V1eZs",
      "include_colab_link": true
    },
    "kernelspec": {
      "name": "python3",
      "display_name": "Python 3"
    }
  },
  "cells": [
    {
      "cell_type": "markdown",
      "metadata": {
        "id": "view-in-github",
        "colab_type": "text"
      },
      "source": [
        "<a href=\"https://colab.research.google.com/github/IshitaB28/ML_Mastery_courses/blob/master/Dlcc14days9.ipynb\" target=\"_parent\"><img src=\"https://colab.research.google.com/assets/colab-badge.svg\" alt=\"Open In Colab\"/></a>"
      ]
    },
    {
      "cell_type": "code",
      "metadata": {
        "id": "L9CdEmuBpJFW",
        "colab_type": "code",
        "colab": {
          "base_uri": "https://localhost:8080/",
          "height": 34
        },
        "outputId": "c6965ad6-cf28-407c-bf9f-66fe26706983"
      },
      "source": [
        "from keras.datasets import mnist\n",
        "from keras.models import Sequential\n",
        "from keras.layers import Conv2D, Dense, Dropout, Flatten, MaxPooling2D\n",
        "from keras.utils import np_utils"
      ],
      "execution_count": 1,
      "outputs": [
        {
          "output_type": "stream",
          "text": [
            "Using TensorFlow backend.\n"
          ],
          "name": "stderr"
        }
      ]
    },
    {
      "cell_type": "code",
      "metadata": {
        "id": "EVQJMn8spkqW",
        "colab_type": "code",
        "colab": {}
      },
      "source": [
        "# load data\n",
        "(X_train, y_train), (X_test, y_test) = mnist.load_data()\n",
        "# reshape to be [samples][width][height][channels]\n",
        "X_train = X_train.reshape((X_train.shape[0], 28, 28, 1)).astype('float32')\n",
        "X_test = X_test.reshape((X_test.shape[0], 28, 28, 1)).astype('float32')\n",
        "\n",
        "#normalizing:\n",
        "X_train=X_train/255\n",
        "X_test=X_test/255\n",
        "#converting into one hot encoding:\n",
        "\n",
        "y_train=np_utils.to_categorical(y_train)\n",
        "y_test=np_utils.to_categorical(y_test)\n",
        "\n",
        "num_classes=y_test.shape[1]"
      ],
      "execution_count": 3,
      "outputs": []
    },
    {
      "cell_type": "code",
      "metadata": {
        "id": "-pLNhZBeqcqn",
        "colab_type": "code",
        "colab": {}
      },
      "source": [
        "def cnn_model():\n",
        "  model = Sequential()\n",
        "  model.add(Conv2D(30, (5, 5), input_shape=(28, 28, 1), activation='relu'))\n",
        "  model.add(MaxPooling2D())\n",
        "  model.add(Conv2D(15, (3, 3), activation='relu'))\n",
        "  model.add(MaxPooling2D())\n",
        "  model.add(Dropout(0.2))\n",
        "  model.add(Flatten())\n",
        "  model.add(Dense(128, activation='relu'))\n",
        "  model.add(Dense(50, activation='relu'))\n",
        "  model.add(Dense(num_classes, activation='softmax'))\n",
        "  # Compile model\n",
        "  model.compile(loss='categorical_crossentropy', optimizer='adam', metrics=['accuracy'])\n",
        "  return model"
      ],
      "execution_count": 6,
      "outputs": []
    },
    {
      "cell_type": "code",
      "metadata": {
        "id": "IR0TV37dq-4G",
        "colab_type": "code",
        "colab": {
          "base_uri": "https://localhost:8080/",
          "height": 391
        },
        "outputId": "076fb9db-92f9-4356-9755-807f35490c74"
      },
      "source": [
        "model=cnn_model()\n",
        "model.fit(X_train, y_train, validation_data=(X_test, y_test), epochs=10, batch_size=200)\n",
        "scores=model.evaluate(X_test, y_test, verbose=0)\n",
        "print(\"Large CNN Error: %.2f%%\" % (100-scores[1]*100))"
      ],
      "execution_count": 7,
      "outputs": [
        {
          "output_type": "stream",
          "text": [
            "Train on 60000 samples, validate on 10000 samples\n",
            "Epoch 1/10\n",
            "60000/60000 [==============================] - 34s 574us/step - loss: 0.3956 - accuracy: 0.8762 - val_loss: 0.0814 - val_accuracy: 0.9744\n",
            "Epoch 2/10\n",
            "60000/60000 [==============================] - 34s 565us/step - loss: 0.1021 - accuracy: 0.9684 - val_loss: 0.0536 - val_accuracy: 0.9828\n",
            "Epoch 3/10\n",
            "60000/60000 [==============================] - 34s 559us/step - loss: 0.0744 - accuracy: 0.9771 - val_loss: 0.0437 - val_accuracy: 0.9867\n",
            "Epoch 4/10\n",
            "60000/60000 [==============================] - 34s 561us/step - loss: 0.0602 - accuracy: 0.9811 - val_loss: 0.0349 - val_accuracy: 0.9889\n",
            "Epoch 5/10\n",
            "60000/60000 [==============================] - 34s 559us/step - loss: 0.0508 - accuracy: 0.9848 - val_loss: 0.0386 - val_accuracy: 0.9879\n",
            "Epoch 6/10\n",
            "60000/60000 [==============================] - 33s 554us/step - loss: 0.0464 - accuracy: 0.9856 - val_loss: 0.0281 - val_accuracy: 0.9909\n",
            "Epoch 7/10\n",
            "60000/60000 [==============================] - 33s 554us/step - loss: 0.0397 - accuracy: 0.9875 - val_loss: 0.0275 - val_accuracy: 0.9904\n",
            "Epoch 8/10\n",
            "60000/60000 [==============================] - 33s 554us/step - loss: 0.0363 - accuracy: 0.9887 - val_loss: 0.0260 - val_accuracy: 0.9917\n",
            "Epoch 9/10\n",
            "60000/60000 [==============================] - 33s 556us/step - loss: 0.0326 - accuracy: 0.9896 - val_loss: 0.0265 - val_accuracy: 0.9909\n",
            "Epoch 10/10\n",
            "60000/60000 [==============================] - 33s 555us/step - loss: 0.0293 - accuracy: 0.9905 - val_loss: 0.0311 - val_accuracy: 0.9893\n",
            "Large CNN Error: 1.07%\n"
          ],
          "name": "stdout"
        }
      ]
    },
    {
      "cell_type": "code",
      "metadata": {
        "id": "eYc_lkaRrxRS",
        "colab_type": "code",
        "colab": {}
      },
      "source": [
        ""
      ],
      "execution_count": null,
      "outputs": []
    }
  ]
}