{
  "nbformat": 4,
  "nbformat_minor": 0,
  "metadata": {
    "colab": {
      "name": "Dlcc14days10.ipynb",
      "provenance": [],
      "collapsed_sections": [],
      "authorship_tag": "ABX9TyN/hdUAfdV1ODeskJtxMeW7",
      "include_colab_link": true
    },
    "kernelspec": {
      "name": "python3",
      "display_name": "Python 3"
    },
    "accelerator": "GPU"
  },
  "cells": [
    {
      "cell_type": "markdown",
      "metadata": {
        "id": "view-in-github",
        "colab_type": "text"
      },
      "source": [
        "<a href=\"https://colab.research.google.com/github/IshitaB28/ML_Mastery_courses/blob/master/Dlcc14days10.ipynb\" target=\"_parent\"><img src=\"https://colab.research.google.com/assets/colab-badge.svg\" alt=\"Open In Colab\"/></a>"
      ]
    },
    {
      "cell_type": "code",
      "metadata": {
        "id": "GoMUSLgMw97s",
        "colab_type": "code",
        "colab": {
          "base_uri": "https://localhost:8080/",
          "height": 34
        },
        "outputId": "08124e13-e057-4fed-e5ec-640a818b1e8a"
      },
      "source": [
        "from keras.datasets import cifar10\n",
        "from keras.models import Sequential\n",
        "from keras.layers import Dense\n",
        "from keras.layers import Dropout\n",
        "from keras.layers import Flatten\n",
        "from keras.constraints import maxnorm\n",
        "from keras.optimizers import SGD\n",
        "from keras.layers.convolutional import Conv2D\n",
        "from keras.layers.convolutional import MaxPooling2D\n",
        "from keras.utils import np_utils"
      ],
      "execution_count": 1,
      "outputs": [
        {
          "output_type": "stream",
          "text": [
            "Using TensorFlow backend.\n"
          ],
          "name": "stderr"
        }
      ]
    },
    {
      "cell_type": "code",
      "metadata": {
        "id": "c0YbGAzAxEZt",
        "colab_type": "code",
        "colab": {
          "base_uri": "https://localhost:8080/",
          "height": 51
        },
        "outputId": "450f4390-ef49-411f-bff5-4857be74a28c"
      },
      "source": [
        "# load data\n",
        "(X_train, y_train), (X_test, y_test) = cifar10.load_data()\n",
        "# normalize inputs from 0-255 to 0.0-1.0\n",
        "X_train = X_train.astype('float32')\n",
        "X_test = X_test.astype('float32')\n",
        "X_train = X_train / 255.0\n",
        "X_test = X_test / 255.0\n",
        "# one hot encode outputs\n",
        "y_train = np_utils.to_categorical(y_train)\n",
        "y_test = np_utils.to_categorical(y_test)\n",
        "num_classes = y_test.shape[1]"
      ],
      "execution_count": 2,
      "outputs": [
        {
          "output_type": "stream",
          "text": [
            "Downloading data from https://www.cs.toronto.edu/~kriz/cifar-10-python.tar.gz\n",
            "170500096/170498071 [==============================] - 7s 0us/step\n"
          ],
          "name": "stdout"
        }
      ]
    },
    {
      "cell_type": "code",
      "metadata": {
        "id": "r6cD1DsTxJ4n",
        "colab_type": "code",
        "colab": {
          "base_uri": "https://localhost:8080/",
          "height": 34
        },
        "outputId": "8d337136-e0ca-4a97-98ed-05e93bf7dc2a"
      },
      "source": [
        "X_train.shape"
      ],
      "execution_count": 3,
      "outputs": [
        {
          "output_type": "execute_result",
          "data": {
            "text/plain": [
              "(50000, 32, 32, 3)"
            ]
          },
          "metadata": {
            "tags": []
          },
          "execution_count": 3
        }
      ]
    },
    {
      "cell_type": "code",
      "metadata": {
        "id": "rpqI5sOlxQPB",
        "colab_type": "code",
        "colab": {}
      },
      "source": [
        "model = Sequential()\n",
        "model.add(Conv2D(32, (3, 3), input_shape=(32, 32, 3), activation='relu', padding='same'))\n",
        "model.add(Dropout(0.2))\n",
        "model.add(Conv2D(32, (3, 3), activation='relu', padding='same'))\n",
        "model.add(MaxPooling2D())\n",
        "model.add(Conv2D(64, (3, 3), activation='relu', padding='same'))\n",
        "model.add(Dropout(0.2))\n",
        "model.add(Conv2D(64, (3, 3), activation='relu', padding='same'))\n",
        "model.add(MaxPooling2D())\n",
        "model.add(Conv2D(128, (3, 3), activation='relu', padding='same'))\n",
        "model.add(Dropout(0.2))\n",
        "model.add(Conv2D(128, (3, 3), activation='relu', padding='same'))\n",
        "model.add(MaxPooling2D())\n",
        "model.add(Flatten())\n",
        "model.add(Dropout(0.2))\n",
        "model.add(Dense(1024, activation='relu', kernel_constraint=maxnorm(3)))\n",
        "model.add(Dropout(0.2))\n",
        "model.add(Dense(512, activation='relu', kernel_constraint=maxnorm(3)))\n",
        "model.add(Dropout(0.2))\n",
        "model.add(Dense(num_classes, activation='softmax'))"
      ],
      "execution_count": 4,
      "outputs": []
    },
    {
      "cell_type": "code",
      "metadata": {
        "id": "QielH8E8xe4w",
        "colab_type": "code",
        "colab": {
          "base_uri": "https://localhost:8080/",
          "height": 1000
        },
        "outputId": "6c8edabf-659f-49a6-cb0f-254a46a5c6ee"
      },
      "source": [
        "epochs = 25\n",
        "lrate = 0.01\n",
        "decay = lrate/epochs\n",
        "sgd = SGD(lr=lrate, momentum=0.9, decay=decay, nesterov=False)\n",
        "model.compile(loss='categorical_crossentropy', optimizer=sgd, metrics=['accuracy'])\n",
        "model.summary()\n",
        "# Fit the model\n",
        "model.fit(X_train, y_train, validation_data=(X_test, y_test), epochs=epochs, batch_size=64)"
      ],
      "execution_count": 5,
      "outputs": [
        {
          "output_type": "stream",
          "text": [
            "Model: \"sequential_1\"\n",
            "_________________________________________________________________\n",
            "Layer (type)                 Output Shape              Param #   \n",
            "=================================================================\n",
            "conv2d_1 (Conv2D)            (None, 32, 32, 32)        896       \n",
            "_________________________________________________________________\n",
            "dropout_1 (Dropout)          (None, 32, 32, 32)        0         \n",
            "_________________________________________________________________\n",
            "conv2d_2 (Conv2D)            (None, 32, 32, 32)        9248      \n",
            "_________________________________________________________________\n",
            "max_pooling2d_1 (MaxPooling2 (None, 16, 16, 32)        0         \n",
            "_________________________________________________________________\n",
            "conv2d_3 (Conv2D)            (None, 16, 16, 64)        18496     \n",
            "_________________________________________________________________\n",
            "dropout_2 (Dropout)          (None, 16, 16, 64)        0         \n",
            "_________________________________________________________________\n",
            "conv2d_4 (Conv2D)            (None, 16, 16, 64)        36928     \n",
            "_________________________________________________________________\n",
            "max_pooling2d_2 (MaxPooling2 (None, 8, 8, 64)          0         \n",
            "_________________________________________________________________\n",
            "conv2d_5 (Conv2D)            (None, 8, 8, 128)         73856     \n",
            "_________________________________________________________________\n",
            "dropout_3 (Dropout)          (None, 8, 8, 128)         0         \n",
            "_________________________________________________________________\n",
            "conv2d_6 (Conv2D)            (None, 8, 8, 128)         147584    \n",
            "_________________________________________________________________\n",
            "max_pooling2d_3 (MaxPooling2 (None, 4, 4, 128)         0         \n",
            "_________________________________________________________________\n",
            "flatten_1 (Flatten)          (None, 2048)              0         \n",
            "_________________________________________________________________\n",
            "dropout_4 (Dropout)          (None, 2048)              0         \n",
            "_________________________________________________________________\n",
            "dense_1 (Dense)              (None, 1024)              2098176   \n",
            "_________________________________________________________________\n",
            "dropout_5 (Dropout)          (None, 1024)              0         \n",
            "_________________________________________________________________\n",
            "dense_2 (Dense)              (None, 512)               524800    \n",
            "_________________________________________________________________\n",
            "dropout_6 (Dropout)          (None, 512)               0         \n",
            "_________________________________________________________________\n",
            "dense_3 (Dense)              (None, 10)                5130      \n",
            "=================================================================\n",
            "Total params: 2,915,114\n",
            "Trainable params: 2,915,114\n",
            "Non-trainable params: 0\n",
            "_________________________________________________________________\n",
            "Train on 50000 samples, validate on 10000 samples\n",
            "Epoch 1/25\n",
            "50000/50000 [==============================] - 28s 552us/step - loss: 1.9311 - accuracy: 0.2907 - val_loss: 1.6600 - val_accuracy: 0.4021\n",
            "Epoch 2/25\n",
            "50000/50000 [==============================] - 21s 422us/step - loss: 1.5019 - accuracy: 0.4537 - val_loss: 1.4528 - val_accuracy: 0.4849\n",
            "Epoch 3/25\n",
            "50000/50000 [==============================] - 21s 422us/step - loss: 1.3288 - accuracy: 0.5181 - val_loss: 1.2740 - val_accuracy: 0.5367\n",
            "Epoch 4/25\n",
            "50000/50000 [==============================] - 21s 424us/step - loss: 1.2040 - accuracy: 0.5643 - val_loss: 1.1073 - val_accuracy: 0.6030\n",
            "Epoch 5/25\n",
            "50000/50000 [==============================] - 21s 422us/step - loss: 1.1044 - accuracy: 0.6051 - val_loss: 1.0454 - val_accuracy: 0.6277\n",
            "Epoch 6/25\n",
            "50000/50000 [==============================] - 21s 422us/step - loss: 1.0085 - accuracy: 0.6406 - val_loss: 0.9441 - val_accuracy: 0.6591\n",
            "Epoch 7/25\n",
            "50000/50000 [==============================] - 21s 421us/step - loss: 0.9367 - accuracy: 0.6675 - val_loss: 0.8996 - val_accuracy: 0.6794\n",
            "Epoch 8/25\n",
            "50000/50000 [==============================] - 21s 423us/step - loss: 0.8733 - accuracy: 0.6919 - val_loss: 0.8499 - val_accuracy: 0.7006\n",
            "Epoch 9/25\n",
            "50000/50000 [==============================] - 21s 424us/step - loss: 0.8216 - accuracy: 0.7098 - val_loss: 0.8300 - val_accuracy: 0.7099\n",
            "Epoch 10/25\n",
            "50000/50000 [==============================] - 21s 420us/step - loss: 0.7800 - accuracy: 0.7233 - val_loss: 0.7835 - val_accuracy: 0.7245\n",
            "Epoch 11/25\n",
            "50000/50000 [==============================] - 22s 430us/step - loss: 0.7354 - accuracy: 0.7398 - val_loss: 0.7538 - val_accuracy: 0.7367\n",
            "Epoch 12/25\n",
            "50000/50000 [==============================] - 21s 423us/step - loss: 0.7073 - accuracy: 0.7516 - val_loss: 0.7335 - val_accuracy: 0.7440\n",
            "Epoch 13/25\n",
            "50000/50000 [==============================] - 21s 420us/step - loss: 0.6714 - accuracy: 0.7625 - val_loss: 0.7330 - val_accuracy: 0.7435\n",
            "Epoch 14/25\n",
            "50000/50000 [==============================] - 21s 421us/step - loss: 0.6427 - accuracy: 0.7732 - val_loss: 0.7148 - val_accuracy: 0.7499\n",
            "Epoch 15/25\n",
            "50000/50000 [==============================] - 21s 421us/step - loss: 0.6146 - accuracy: 0.7834 - val_loss: 0.7088 - val_accuracy: 0.7528\n",
            "Epoch 16/25\n",
            "50000/50000 [==============================] - 21s 422us/step - loss: 0.5939 - accuracy: 0.7889 - val_loss: 0.6835 - val_accuracy: 0.7613\n",
            "Epoch 17/25\n",
            "50000/50000 [==============================] - 21s 421us/step - loss: 0.5681 - accuracy: 0.7984 - val_loss: 0.6775 - val_accuracy: 0.7630\n",
            "Epoch 18/25\n",
            "50000/50000 [==============================] - 21s 421us/step - loss: 0.5488 - accuracy: 0.8044 - val_loss: 0.6650 - val_accuracy: 0.7691\n",
            "Epoch 19/25\n",
            "50000/50000 [==============================] - 21s 425us/step - loss: 0.5306 - accuracy: 0.8119 - val_loss: 0.6719 - val_accuracy: 0.7652\n",
            "Epoch 20/25\n",
            "50000/50000 [==============================] - 21s 421us/step - loss: 0.5110 - accuracy: 0.8186 - val_loss: 0.6538 - val_accuracy: 0.7745\n",
            "Epoch 21/25\n",
            "50000/50000 [==============================] - 21s 420us/step - loss: 0.4939 - accuracy: 0.8241 - val_loss: 0.6490 - val_accuracy: 0.7772\n",
            "Epoch 22/25\n",
            "50000/50000 [==============================] - 21s 420us/step - loss: 0.4763 - accuracy: 0.8302 - val_loss: 0.6692 - val_accuracy: 0.7713\n",
            "Epoch 23/25\n",
            "50000/50000 [==============================] - 21s 420us/step - loss: 0.4613 - accuracy: 0.8342 - val_loss: 0.6424 - val_accuracy: 0.7785\n",
            "Epoch 24/25\n",
            "50000/50000 [==============================] - 21s 415us/step - loss: 0.4504 - accuracy: 0.8389 - val_loss: 0.6543 - val_accuracy: 0.7811\n",
            "Epoch 25/25\n",
            "50000/50000 [==============================] - 21s 415us/step - loss: 0.4335 - accuracy: 0.8455 - val_loss: 0.6282 - val_accuracy: 0.7883\n"
          ],
          "name": "stdout"
        },
        {
          "output_type": "execute_result",
          "data": {
            "text/plain": [
              "<keras.callbacks.callbacks.History at 0x7fcce5766cc0>"
            ]
          },
          "metadata": {
            "tags": []
          },
          "execution_count": 5
        }
      ]
    },
    {
      "cell_type": "code",
      "metadata": {
        "id": "SyIkXJ3LxsKh",
        "colab_type": "code",
        "colab": {
          "base_uri": "https://localhost:8080/",
          "height": 34
        },
        "outputId": "10404c34-360a-4c4e-a38a-20bc62ef5b75"
      },
      "source": [
        "# Final evaluation of the model\n",
        "scores = model.evaluate(X_test, y_test, verbose=0)\n",
        "print(\"Accuracy: %.2f%%\" % (scores[1]*100))"
      ],
      "execution_count": 6,
      "outputs": [
        {
          "output_type": "stream",
          "text": [
            "Accuracy: 78.83%\n"
          ],
          "name": "stdout"
        }
      ]
    },
    {
      "cell_type": "code",
      "metadata": {
        "id": "LK1FdLxj3WtI",
        "colab_type": "code",
        "colab": {}
      },
      "source": [
        ""
      ],
      "execution_count": null,
      "outputs": []
    }
  ]
}