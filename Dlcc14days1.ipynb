{
  "nbformat": 4,
  "nbformat_minor": 0,
  "metadata": {
    "colab": {
      "name": "Dlcc14days1.ipynb",
      "provenance": [],
      "collapsed_sections": [],
      "authorship_tag": "ABX9TyPHUXaA9o+Yd0XMyGD2aaAl",
      "include_colab_link": true
    },
    "kernelspec": {
      "name": "python3",
      "display_name": "Python 3"
    }
  },
  "cells": [
    {
      "cell_type": "markdown",
      "metadata": {
        "id": "view-in-github",
        "colab_type": "text"
      },
      "source": [
        "<a href=\"https://colab.research.google.com/github/IshitaB28/ML_Mastery_courses/blob/master/Dlcc14days1.ipynb\" target=\"_parent\"><img src=\"https://colab.research.google.com/assets/colab-badge.svg\" alt=\"Open In Colab\"/></a>"
      ]
    },
    {
      "cell_type": "code",
      "metadata": {
        "id": "vVZxNjAxKm5F",
        "colab_type": "code",
        "colab": {}
      },
      "source": [
        "import theano"
      ],
      "execution_count": 0,
      "outputs": []
    },
    {
      "cell_type": "markdown",
      "metadata": {
        "id": "JzBOHqT9Ktb1",
        "colab_type": "text"
      },
      "source": [
        "This is about the introduction to Theano"
      ]
    },
    {
      "cell_type": "code",
      "metadata": {
        "id": "lin6tSzLKwfM",
        "colab_type": "code",
        "outputId": "174c262d-57be-41fd-9e43-4c5d54ec69a8",
        "colab": {
          "base_uri": "https://localhost:8080/",
          "height": 34
        }
      },
      "source": [
        "from theano import tensor\n",
        "a=tensor.dscalar()\n",
        "b=tensor.dscalar()\n",
        "c=a+b\n",
        "f=theano.function([a,b], c)\n",
        "result=f(1.5, 2)\n",
        "print(result)"
      ],
      "execution_count": 0,
      "outputs": [
        {
          "output_type": "stream",
          "text": [
            "3.5\n"
          ],
          "name": "stdout"
        }
      ]
    },
    {
      "cell_type": "code",
      "metadata": {
        "id": "n9VbszlwMOR-",
        "colab_type": "code",
        "colab": {}
      },
      "source": [
        ""
      ],
      "execution_count": 0,
      "outputs": []
    }
  ]
}